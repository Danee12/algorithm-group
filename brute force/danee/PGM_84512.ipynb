{
 "cells": [
  {
   "cell_type": "markdown",
   "metadata": {},
   "source": [
    "## 84512. 모음 사전\n",
    "### 1차 문제 풀이(성공) - 중복순열\n",
    "1. 중복순열을 사용하여 모든 경우를 `set()` 에 저장한다.\n",
    "2. 저장한 코드를 정렬한다."
   ]
  },
  {
   "cell_type": "code",
   "execution_count": 1,
   "metadata": {},
   "outputs": [
    {
     "name": "stdout",
     "output_type": "stream",
     "text": [
      "6\n",
      "10\n",
      "1563\n",
      "1189\n"
     ]
    }
   ],
   "source": [
    "from itertools import product\n",
    "\n",
    "def solution(word):\n",
    "    vowel = ['A', 'E', 'I', 'O', 'U']\n",
    "    vowel_set = set()\n",
    "    \n",
    "    for i in range(1, 6):\n",
    "        for j in product(vowel, repeat=i):\n",
    "            vowel_set.add(''.join(j))\n",
    "    \n",
    "    return sorted(vowel_set).index(word)+1\n",
    "\n",
    "print(solution(\"AAAAE\"))    # 6\n",
    "print(solution(\"AAAE\"))     # 10\n",
    "print(solution(\"I\"))        # 1563\n",
    "print(solution(\"EIO\"))      # 1189"
   ]
  },
  {
   "cell_type": "markdown",
   "metadata": {},
   "source": [
    "### 2차 문제 풀이(성공) - 수학식으로"
   ]
  },
  {
   "cell_type": "code",
   "execution_count": 2,
   "metadata": {},
   "outputs": [
    {
     "name": "stdout",
     "output_type": "stream",
     "text": [
      "6\n",
      "10\n",
      "1563\n",
      "1189\n"
     ]
    }
   ],
   "source": [
    "def solution(word):\n",
    "    vowel = {'A':0, 'E':1, 'I':2, 'O':3, 'U':4}\n",
    "    turn = 0\n",
    "    number = 0\n",
    "    \n",
    "    for i in word:\n",
    "        number += sum([5**j for j in range(5-turn)])*(vowel[i]) + 1\n",
    "        turn += 1\n",
    "    \n",
    "    return number\n",
    "    \n",
    "print(solution(\"AAAAE\"))    # 6\n",
    "print(solution(\"AAAE\"))     # 10\n",
    "print(solution(\"I\"))        # 1563\n",
    "print(solution(\"EIO\"))      # 1189"
   ]
  },
  {
   "cell_type": "code",
   "execution_count": null,
   "metadata": {},
   "outputs": [],
   "source": []
  }
 ],
 "metadata": {
  "kernelspec": {
   "display_name": "Python 3",
   "language": "python",
   "name": "python3"
  },
  "language_info": {
   "codemirror_mode": {
    "name": "ipython",
    "version": 3
   },
   "file_extension": ".py",
   "mimetype": "text/x-python",
   "name": "python",
   "nbconvert_exporter": "python",
   "pygments_lexer": "ipython3",
   "version": "3.11.6"
  }
 },
 "nbformat": 4,
 "nbformat_minor": 2
}
