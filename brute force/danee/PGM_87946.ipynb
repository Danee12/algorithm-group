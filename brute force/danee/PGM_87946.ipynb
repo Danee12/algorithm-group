{
 "cells": [
  {
   "cell_type": "markdown",
   "metadata": {},
   "source": [
    "## 87946. 피로도\n",
    "### 문제 풀이\n",
    "\n",
    "1. 던전을 들어온 순서대로 도는 것이 아니기 때문에 던전을 도는 순서에 대한 모든 경우의 수를 생각해본다.\n",
    "    \n",
    "    ⇒ 순열을 사용하자!\n",
    "    \n",
    "2. 모든 경우에 대해 for문을 돌고, 돌 때마다 현재 피로도를 초기화해준다.\n",
    "3. 던전에 필요한 최소 피로도보다 남은 피로도가 적으면 다음으로 넘어가고, 아니면 피로도를 사용하며 던전의 개수를 1 늘린다."
   ]
  },
  {
   "cell_type": "code",
   "execution_count": 1,
   "metadata": {},
   "outputs": [
    {
     "name": "stdout",
     "output_type": "stream",
     "text": [
      "3\n"
     ]
    }
   ],
   "source": [
    "from itertools import permutations\n",
    "\n",
    "def solution(k, dungeons):\n",
    "    max_dungeon = 0\n",
    "    \n",
    "    # 돌 수 있는 던전의 모든 경우의 수를 돈다\n",
    "    for dungeon in permutations(range(len(dungeons))):\n",
    "        # 피로도 초기화\n",
    "        tmp_k = k\n",
    "        tmp_num = 0\n",
    "        \n",
    "        for dun in dungeon:\n",
    "            # 던전에 필요한 최소 피로도보다 남은 피로도가 적으면 순서 끝\n",
    "            if tmp_k < dungeons[dun][0]:\n",
    "                break\n",
    "            \n",
    "            tmp_k -= dungeons[dun][1]\n",
    "            tmp_num += 1\n",
    "        \n",
    "        max_dungeon = max(max_dungeon, tmp_num)\n",
    "    \n",
    "    return max_dungeon\n",
    "\n",
    "print(solution(80, [[80,20],[50,40],[30,10]]))  # 3"
   ]
  }
 ],
 "metadata": {
  "kernelspec": {
   "display_name": "Python 3",
   "language": "python",
   "name": "python3"
  },
  "language_info": {
   "codemirror_mode": {
    "name": "ipython",
    "version": 3
   },
   "file_extension": ".py",
   "mimetype": "text/x-python",
   "name": "python",
   "nbconvert_exporter": "python",
   "pygments_lexer": "ipython3",
   "version": "3.11.6"
  }
 },
 "nbformat": 4,
 "nbformat_minor": 2
}
