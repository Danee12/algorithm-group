{
 "cells": [
  {
   "cell_type": "markdown",
   "metadata": {},
   "source": [
    "## 42840. 모의고사\n",
    "### 문제 풀이\n",
    "\n",
    "1. 학생들의 정답을 찍는 방법은 따로 알고리즘으로 짤 필요 X\n",
    "2. 학생들의 시험점수를 담는 리스트 또는 리스트를 만들자.\n",
    "3. 시험 점수의 최대값을 갖는 학생의 번호를 반환"
   ]
  },
  {
   "cell_type": "code",
   "execution_count": 1,
   "metadata": {},
   "outputs": [
    {
     "name": "stdout",
     "output_type": "stream",
     "text": [
      "[1]\n",
      "[1, 2, 3]\n"
     ]
    }
   ],
   "source": [
    "def solution(answers):\n",
    "    # 각 학생의 찍는 방법\n",
    "    answer_1 = [1, 2, 3, 4, 5]\n",
    "    answer_2 = [2, 1, 2, 3, 2, 4, 2, 5]\n",
    "    answer_3 = [3, 3, 1, 1, 2, 2, 4, 4, 5, 5]\n",
    "    \n",
    "    # 학생의 시험 점수\n",
    "    score = {1:0, 2:0, 3:0}\n",
    "    \n",
    "    # 점수 카운트\n",
    "    for i, answer in enumerate(answers):\n",
    "        # 1번 학생\n",
    "        if answer_1[i%5] == answer:\n",
    "            score[1] += 1\n",
    "        # 2번 학생\n",
    "        if answer_2[i%8] == answer:\n",
    "            score[2] += 1    \n",
    "        # 3번 학생\n",
    "        if answer_3[i%10] == answer:\n",
    "            score[3] += 1    \n",
    "    \n",
    "    return [key for key, value in score.items() if max(score.values()) == value]\n",
    "\n",
    "print(solution([1,2,3,4,5]))    \t# [1]\n",
    "print(solution([1,3,2,4,2]))        # [1,2,3]"
   ]
  }
 ],
 "metadata": {
  "kernelspec": {
   "display_name": "Python 3",
   "language": "python",
   "name": "python3"
  },
  "language_info": {
   "codemirror_mode": {
    "name": "ipython",
    "version": 3
   },
   "file_extension": ".py",
   "mimetype": "text/x-python",
   "name": "python",
   "nbconvert_exporter": "python",
   "pygments_lexer": "ipython3",
   "version": "3.11.6"
  }
 },
 "nbformat": 4,
 "nbformat_minor": 2
}
