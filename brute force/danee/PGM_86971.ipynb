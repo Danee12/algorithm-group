{
 "cells": [
  {
   "cell_type": "markdown",
   "metadata": {},
   "source": [
    "## 86971. 전력망 둘로 나누기\n",
    "### 1차 문제 풀이 (실패)\n",
    "1. tree를 먼저 만들어야 한다. wires에 담긴 원소의 왼쪽을 부모, 오른쪽을 자식으로 담았다.\n",
    "2. 1번부터 n번까지 노드가 있으므로 1번부터 끊으면서 자식의 개수를 count\n",
    "\n",
    "틀렸다!! 내가 처음부터 생각을 잘 못 했다. 바보였다!  \n",
    "\n",
    "1. 해당 노드에 달린 모든 가지를 치는 것이 아님!!! 한 가지만 잘라내야 한다.\n",
    "2. 한 방향 트리가 아니다. 양방향으로 셀 수 있어야 한다. ⇒ 그래프"
   ]
  },
  {
   "cell_type": "code",
   "execution_count": 2,
   "metadata": {},
   "outputs": [
    {
     "name": "stdout",
     "output_type": "stream",
     "text": [
      "3\n",
      "0\n",
      "1\n"
     ]
    }
   ],
   "source": [
    "# 끊어진 전력망의 개수를 세는 함수\n",
    "def check_num(tree, p):\n",
    "    if len(tree[p]) == 0:\n",
    "        return 1\n",
    "    num = 1\n",
    "    for c in tree[p]:\n",
    "        num += check_num(tree, c)\n",
    "    return num\n",
    "\n",
    "def solution(n, wires):\n",
    "    min_diff = 9\n",
    "    # tree 먼저 만들기\n",
    "    wire_tree = {i : [] for i in range(1, n+1)}\n",
    "    for l, r in wires:\n",
    "        wire_tree[l] = wire_tree.get(l, []) + [r]\n",
    "        \n",
    "    # 자식 노드가 있는 가지를 차례대로 끊어서 확인하기\n",
    "    for parent, child in wire_tree.items():\n",
    "        cut_num = check_num(wire_tree, parent)\n",
    "        \n",
    "        min_diff = min(min_diff, abs(n-2*cut_num))\n",
    "    \n",
    "    return min_diff\n",
    "\n",
    "print(solution(9, [[1,3],[2,3],[3,4],[4,5],[4,6],[4,7],[7,8],[7,9]]))   # 3\n",
    "print(solution(4, [[1,2],[2,3],[3,4]]))     # 0\n",
    "print(solution(7, [[1,2],[2,7],[3,7],[3,4],[4,5],[6,7]]))       # 1\n"
   ]
  },
  {
   "cell_type": "markdown",
   "metadata": {},
   "source": [
    "### 2차 문제 풀이 (성공)\n",
    "아이디어는 요한한테 듣고 나서 확실해졌지만 구현은 계속 오리무중이었다.\n",
    "\n",
    "BFS, DFS 강의를 듣고 나서야 어떻게 구현해야 할 지 감이 확실히 왔다!\n",
    "\n",
    "1. graph 입력값을 list 로 제대로 받는다. (부모, 자식 관계 X)\n",
    "2. `wires` 에 담겨있는 간선을 하나씩 끊으면서 노드가 몇 개씩 나눠졌는지 확인한다.\n",
    "    - 트리 구조라고 했기 때문에 사이클은 없다.\n",
    "        \n",
    "        → 하나의 간선을 끊으면 두 그룹으로 무조건 나뉜다.\n",
    "        \n",
    "        → 어떤 노드에서 시작하든지 끊어진 그룹의 노드 개수를 셀 수 있다.\n",
    "        \n",
    "        → **무조건 1번에서 시작해서 하나의 그룹의 노드 개수를 뽑는다. 나머지 그룹의 노드 개수는 셀 필요가 없다.  1번을 포함하지 않는 그룹의 노드 개수는 전체 n에서 1번을 포한하는 그룹의 노드 개수를 빼면 된다.**"
   ]
  },
  {
   "cell_type": "code",
   "execution_count": 1,
   "metadata": {},
   "outputs": [
    {
     "name": "stdout",
     "output_type": "stream",
     "text": [
      "3\n",
      "0\n",
      "1\n"
     ]
    }
   ],
   "source": [
    "from collections import deque\n",
    "\n",
    "# wires의 원소를 받아서 각 그룹의 노드 수를 count한다.\n",
    "def check_wire(graph, wire):\n",
    "    s = deque([1])\n",
    "    seen = set([1])\n",
    "    cnt = 0\n",
    "    \n",
    "    while s:\n",
    "        cur = s.popleft()\n",
    "        cnt += 1\n",
    "        \n",
    "        for next in graph[cur]:\n",
    "            # 이미 들어갔던 노드라면 안가\n",
    "            if next in seen:\n",
    "                continue\n",
    "            # 끊은 간선이면 안가\n",
    "            if cur in wire and next in wire:\n",
    "                continue\n",
    "            \n",
    "            s.append(next)\n",
    "            seen.add(next)\n",
    "            \n",
    "    return cnt\n",
    "\n",
    "def solution(n, wires):\n",
    "    min_diff = n\n",
    "    \n",
    "    # 그래프 채우기\n",
    "    graph = [[] for _ in range(n+1)]\n",
    "    for l, r in wires:\n",
    "        graph[l].append(r)\n",
    "        graph[r].append(l)\n",
    "    \n",
    "    # wires의 원소를 하나씩 끊어서 확인해보자.\n",
    "    for wire in wires:\n",
    "        cnt = check_wire(graph, wire)\n",
    "        min_diff = min(min_diff, abs(2*cnt-n))\n",
    "        \n",
    "    return min_diff\n",
    "\n",
    "print(solution(9, [[1,3],[2,3],[3,4],[4,5],[4,6],[4,7],[7,8],[7,9]]))   # 3\n",
    "print(solution(4, [[1,2],[2,3],[3,4]]))     # 0\n",
    "print(solution(7, [[1,2],[2,7],[3,7],[3,4],[4,5],[6,7]]))       # 1"
   ]
  },
  {
   "cell_type": "code",
   "execution_count": null,
   "metadata": {},
   "outputs": [],
   "source": []
  }
 ],
 "metadata": {
  "kernelspec": {
   "display_name": "Python 3",
   "language": "python",
   "name": "python3"
  },
  "language_info": {
   "codemirror_mode": {
    "name": "ipython",
    "version": 3
   },
   "file_extension": ".py",
   "mimetype": "text/x-python",
   "name": "python",
   "nbconvert_exporter": "python",
   "pygments_lexer": "ipython3",
   "version": "3.11.6"
  }
 },
 "nbformat": 4,
 "nbformat_minor": 2
}
