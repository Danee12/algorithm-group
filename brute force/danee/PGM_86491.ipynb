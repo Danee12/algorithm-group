{
 "cells": [
  {
   "cell_type": "markdown",
   "metadata": {},
   "source": [
    "## 86491. 최소직사각형\n",
    "### 문제 풀이\n",
    "\n",
    "1. 가로와 세로에 꽂히면 안되는 문제구나!\n",
    "    1. 가로와 세로가 아니라 더 긴 길이, 더 짧은 길이를 비교하여 긴 변끼리 비교, 작은 변끼리의 비교가 필요하다"
   ]
  },
  {
   "cell_type": "code",
   "execution_count": 1,
   "metadata": {},
   "outputs": [
    {
     "name": "stdout",
     "output_type": "stream",
     "text": [
      "4000\n",
      "120\n",
      "133\n"
     ]
    }
   ],
   "source": [
    "def solution(sizes):\n",
    "    w, h = sorted(sizes[0], reverse=True)\n",
    "    \n",
    "    for card in sizes[1:]:\n",
    "        tmp_w, tmp_h = sorted(card, reverse=True)\n",
    "        if tmp_w > w: w=tmp_w\n",
    "        if tmp_h > h: h=tmp_h\n",
    "        \n",
    "    return w*h\n",
    "\n",
    "print(solution([[60, 50], [30, 70], [60, 30], [80, 40]]))\n",
    "print(solution([[10, 7], [12, 3], [8, 15], [14, 7], [5, 15]]))\n",
    "print(solution([[14, 4], [19, 6], [6, 16], [18, 7], [7, 11]]))"
   ]
  },
  {
   "cell_type": "code",
   "execution_count": 2,
   "metadata": {},
   "outputs": [
    {
     "name": "stdout",
     "output_type": "stream",
     "text": [
      "4000\n",
      "120\n",
      "133\n"
     ]
    }
   ],
   "source": [
    "def solution(sizes):\n",
    "    w, h = (0, 0)\n",
    "    \n",
    "    for tmp_w, tmp_h in sizes:\n",
    "        if tmp_w < tmp_h:\n",
    "            tmp_w, tmp_h = tmp_h, tmp_w\n",
    "            \n",
    "        w = max(w, tmp_w)\n",
    "        h = max(h, tmp_h)\n",
    "    \n",
    "    return w*h\n",
    "\n",
    "print(solution([[60, 50], [30, 70], [60, 30], [80, 40]]))\n",
    "print(solution([[10, 7], [12, 3], [8, 15], [14, 7], [5, 15]]))\n",
    "print(solution([[14, 4], [19, 6], [6, 16], [18, 7], [7, 11]]))"
   ]
  }
 ],
 "metadata": {
  "kernelspec": {
   "display_name": "Python 3",
   "language": "python",
   "name": "python3"
  },
  "language_info": {
   "codemirror_mode": {
    "name": "ipython",
    "version": 3
   },
   "file_extension": ".py",
   "mimetype": "text/x-python",
   "name": "python",
   "nbconvert_exporter": "python",
   "pygments_lexer": "ipython3",
   "version": "3.11.6"
  }
 },
 "nbformat": 4,
 "nbformat_minor": 2
}
