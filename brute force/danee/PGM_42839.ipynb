{
 "cells": [
  {
   "cell_type": "markdown",
   "metadata": {},
   "source": [
    "## 42839. 소수 찾기\n",
    "### 문제 풀이\n",
    "\n",
    "1. 소수 판별 함수는 따로 만들자. 따로 패키지가 없다.\n",
    "    1. 에라토스테네스의 체를 이용할 것\n",
    "    2. 해당 숫자의 제곱근까지만 확인하면 된다.\n",
    "2. 주어진 숫자들을 가지고 할 수 있는 모든 조합을 생각한다. ⇒ 순열\n",
    "    1. ‘011’ 과 ‘11’은 같은 숫자 이므로 `int`로 변환하는 작업이 필요\n",
    "    2. 소수인 것이 판별되면 집합에 넣는다 (중복 제거)"
   ]
  },
  {
   "cell_type": "code",
   "execution_count": 2,
   "metadata": {},
   "outputs": [
    {
     "name": "stdout",
     "output_type": "stream",
     "text": [
      "3\n",
      "2\n"
     ]
    }
   ],
   "source": [
    "import math\n",
    "from itertools import permutations\n",
    "\n",
    "\n",
    "# 소수 판별 함수\n",
    "def is_prime(num):\n",
    "    if num <= 1:\n",
    "        return False\n",
    "    \n",
    "    for i in range(2, int(math.sqrt(num))+1):\n",
    "        if num%i==0:\n",
    "            return False\n",
    "    return True\n",
    "\n",
    "# 메인 함수\n",
    "def solution(numbers):\n",
    "    answer = set()\n",
    "    \n",
    "    # 숫자들의 모든 경우의 수를 확인\n",
    "    for i in range(1, len(numbers)+1):\n",
    "        set_i = set(int(\"\".join(j)) for j in permutations(numbers,i))\n",
    "        \n",
    "        for k in set_i:\n",
    "            if is_prime(k): answer.add(k)\n",
    "    \n",
    "    return len(answer)\n",
    "\n",
    "print(solution(\"17\"))       # 3\n",
    "print(solution(\"011\"))      # 2"
   ]
  }
 ],
 "metadata": {
  "kernelspec": {
   "display_name": "Python 3",
   "language": "python",
   "name": "python3"
  },
  "language_info": {
   "codemirror_mode": {
    "name": "ipython",
    "version": 3
   },
   "file_extension": ".py",
   "mimetype": "text/x-python",
   "name": "python",
   "nbconvert_exporter": "python",
   "pygments_lexer": "ipython3",
   "version": "3.11.6"
  }
 },
 "nbformat": 4,
 "nbformat_minor": 2
}
