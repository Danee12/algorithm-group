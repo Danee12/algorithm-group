{
 "cells": [
  {
   "cell_type": "markdown",
   "metadata": {},
   "source": [
    "## 42842. 카페\n",
    "### 문제 풀이\n",
    "\n",
    "1. yellow의 가로와 세로 길이를 통해서 brown의 타일 개수를 따질 수 있다.\n",
    "2. yellow의 타일 개수가 넓이와 같으므로 1부터 yellow의 제곱근까지 하나씩 늘리면서 넓이가 될 수 있는 경우를 확인한다. (인수분해)\n",
    "3. yellow의 인수일 때 $(가로)*2+(세로)*2+4 = (brown타일의 개수)$ 가 되는지 확인한다.\n",
    "4. 3번이 참이라면, 전체 타일은 $(yellow의 가로)+2, (yellow의 세로)+2$ 이다."
   ]
  },
  {
   "cell_type": "code",
   "execution_count": null,
   "metadata": {},
   "outputs": [],
   "source": [
    "def solution(brown, yellow):\n",
    "    # 1부터 yellow의 제곱근까지 확인\n",
    "    for i in range(1, int(yellow**(1/2))+1):\n",
    "        # yellow의 넓이가 가능할 때\n",
    "        if yellow % i==0:\n",
    "            # brown의 길이가 가능하다면\n",
    "            if (i+yellow//i)*2+4 == brown:\n",
    "                return [yellow//i+2, i+2]\n",
    "\n",
    "print(solution(10, 2))\t    # [4, 3]\n",
    "print(solution(8, 1))       # [3, 3]\n",
    "print(solution(24, 24))     # [8, 6]"
   ]
  }
 ],
 "metadata": {
  "kernelspec": {
   "display_name": "Python 3",
   "language": "python",
   "name": "python3"
  },
  "language_info": {
   "name": "python",
   "version": "3.11.6"
  }
 },
 "nbformat": 4,
 "nbformat_minor": 2
}
