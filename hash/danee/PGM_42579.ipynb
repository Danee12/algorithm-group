{
 "cells": [
  {
   "cell_type": "markdown",
   "metadata": {},
   "source": [
    "## 42579. 베스트 앨범\n",
    "\n",
    "### 1차 문제 풀이\n",
    "1. 재생 횟수로 장르 내림차순 정렬\n",
    "2. 장르 별로 노래를 뽑아서 `{고유번호: 재생횟수}`를 담은 해시 맵 생성\n",
    "3. 재생 횟수는 내림차순으로, 고유번호는 오름차순으로 정렬\n",
    "4. 정렬한 값 중 top1, 2위만 결과값으로 저장"
   ]
  },
  {
   "cell_type": "code",
   "execution_count": 1,
   "metadata": {},
   "outputs": [
    {
     "name": "stdout",
     "output_type": "stream",
     "text": [
      "[4, 1, 3, 0]\n"
     ]
    }
   ],
   "source": [
    "def solution(genres, plays):\n",
    "    hash_genre = {}\n",
    "    \n",
    "    # 재생 횟수로 장르 정렬\n",
    "    for i in range(len(genres)):\n",
    "        hash_genre[genres[i]] = hash_genre.get(genres[i], 0) + plays[i]\n",
    "        \n",
    "    hash_genre = sorted(hash_genre.items(), key = lambda x: x[1], reverse=True)\n",
    "    \n",
    "    # 장르 별로 곡을 뽑아서 해시로 만든 뒤에 그 안에서 sort\n",
    "    result = []\n",
    "    for genre, _ in hash_genre:\n",
    "        tmp_hash = {}\n",
    "        \n",
    "        # 해당 장르의 곡 뽑기\n",
    "        for i in range(len(plays)):\n",
    "            if genres[i] == genre:\n",
    "                tmp_hash[i] = plays[i]\n",
    "                \n",
    "        # 정렬\n",
    "        tmp_sort = sorted(tmp_hash.items(), key = lambda x: (-x[1], x[0]))\n",
    "        result.extend([tmp[0] for tmp in tmp_sort[:2]])\n",
    "    \n",
    "    return result\n",
    "\n",
    "print(solution([\"classic\", \"pop\", \"classic\", \"classic\", \"pop\"], [500, 600, 150, 800, 2500]))"
   ]
  },
  {
   "cell_type": "markdown",
   "metadata": {},
   "source": [
    "### 2차 제출 코드\n",
    "장르 별로 곡을 뽑기 위해서 2중 for문 돌린 것이 마음에 들지 않아서 다시!\n",
    "\n",
    "`enemerate(zip())` 의 조합을 사용해서 한번에 하나의 for문에서 2가지의 hash를 만들 수 있었다."
   ]
  },
  {
   "cell_type": "code",
   "execution_count": 2,
   "metadata": {},
   "outputs": [
    {
     "name": "stdout",
     "output_type": "stream",
     "text": [
      "[4, 1, 3, 0]\n"
     ]
    }
   ],
   "source": [
    "def solution(genres, plays):\n",
    "    hash_genre_play = {}    # 장르 별로 재생 횟수 합계\n",
    "    hash_genre_num = {}     # 장르 별로 [(고유 번호, 재생수), ...]\n",
    "    \n",
    "    for i, (genre, play) in enumerate(zip(genres, plays)):\n",
    "        # 장르 별 재생 횟수 합계\n",
    "        hash_genre_play[genre] = hash_genre_play.get(genre, 0) + play\n",
    "        \n",
    "        # 장르 별로 고유 번호와 재생수를 묶은 해시 생성\n",
    "        if genre not in hash_genre_num:\n",
    "            hash_genre_num[genre] = [(i, play)]\n",
    "        else:\n",
    "            hash_genre_num[genre].append((i, play))\n",
    "    \n",
    "    result = []\n",
    "    for genre, _ in sorted(hash_genre_play.items(), key=lambda x: -x[1]):\n",
    "        sort_per_genre = sorted(hash_genre_num[genre], key=lambda x: (-x[1], x[0]))[:2]\n",
    "        result.extend([i for i,_ in sort_per_genre])\n",
    "    return result\n",
    "\n",
    "print(solution([\"classic\", \"pop\", \"classic\", \"classic\", \"pop\"], [500, 600, 150, 800, 2500]))"
   ]
  },
  {
   "cell_type": "code",
   "execution_count": null,
   "metadata": {},
   "outputs": [],
   "source": []
  }
 ],
 "metadata": {
  "kernelspec": {
   "display_name": "Python 3",
   "language": "python",
   "name": "python3"
  },
  "language_info": {
   "codemirror_mode": {
    "name": "ipython",
    "version": 3
   },
   "file_extension": ".py",
   "mimetype": "text/x-python",
   "name": "python",
   "nbconvert_exporter": "python",
   "pygments_lexer": "ipython3",
   "version": "3.11.6"
  }
 },
 "nbformat": 4,
 "nbformat_minor": 2
}
