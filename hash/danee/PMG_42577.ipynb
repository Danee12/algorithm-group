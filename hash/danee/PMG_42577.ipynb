{
 "cells": [
  {
   "cell_type": "markdown",
   "metadata": {},
   "source": [
    "## 42577. 전화번호 목록\n",
    "\n",
    "### 1차 문제 풀이\n",
    "미리 정렬을 하면 전화번호는 문자열이어서 사전식 배열이 되므로 접두사와 접두사를 갖는 번호가 나란히 있게 된다. "
   ]
  },
  {
   "cell_type": "code",
   "execution_count": 1,
   "metadata": {},
   "outputs": [
    {
     "name": "stdout",
     "output_type": "stream",
     "text": [
      "False\n",
      "True\n",
      "False\n"
     ]
    }
   ],
   "source": [
    "def solution(phone_book):\n",
    "    phone_book.sort()\n",
    "    \n",
    "    for phone1, phone2 in zip(phone_book, phone_book[1:]):\n",
    "        if phone2.startswith(phone1):\n",
    "            return False\n",
    "        \n",
    "    return True\n",
    "\n",
    "print(solution([\"119\", \"97674223\", \"1195524421\"]))\n",
    "print(solution([\"123\",\"456\",\"789\"]))\n",
    "print(solution([\"12\",\"123\",\"1235\",\"567\",\"88\"]))"
   ]
  },
  {
   "cell_type": "markdown",
   "metadata": {},
   "source": [
    "### 2차 문제 풀이\n",
    "\n",
    "`phone_book`을 set으로 변환하여 해시로 만들고 각 전화번호의 앞부터 차례로 해시맵 안에 있는지 확인한다. 해시맵 안에 있고 그 값이 해당 전화번호와 다르면 접두사!"
   ]
  },
  {
   "cell_type": "code",
   "execution_count": 2,
   "metadata": {},
   "outputs": [
    {
     "name": "stdout",
     "output_type": "stream",
     "text": [
      "False\n",
      "True\n",
      "False\n"
     ]
    }
   ],
   "source": [
    "def solution(phone_book):\n",
    "    hash_phone = set(phone_book)\n",
    "    \n",
    "    for numbers in phone_book:\n",
    "        prefix = ''\n",
    "        \n",
    "        for num in numbers:\n",
    "            prefix += num\n",
    "            if prefix in hash_phone and prefix != numbers:\n",
    "                return False\n",
    "    \n",
    "    return True\n",
    "\n",
    "print(solution([\"119\", \"97674223\", \"1195524421\"]))\n",
    "print(solution([\"123\",\"456\",\"789\"]))\n",
    "print(solution([\"12\",\"123\",\"1235\",\"567\",\"88\"]))"
   ]
  },
  {
   "cell_type": "code",
   "execution_count": null,
   "metadata": {},
   "outputs": [],
   "source": []
  }
 ],
 "metadata": {
  "kernelspec": {
   "display_name": "Python 3",
   "language": "python",
   "name": "python3"
  },
  "language_info": {
   "codemirror_mode": {
    "name": "ipython",
    "version": 3
   },
   "file_extension": ".py",
   "mimetype": "text/x-python",
   "name": "python",
   "nbconvert_exporter": "python",
   "pygments_lexer": "ipython3",
   "version": "3.11.6"
  }
 },
 "nbformat": 4,
 "nbformat_minor": 2
}
