{
 "cells": [
  {
   "cell_type": "markdown",
   "metadata": {},
   "source": [
    "## 1845. [폰켓몬](https://school.programmers.co.kr/learn/courses/30/lessons/1845)\n",
    "\n",
    "### 문제 풀이\n",
    "폰켓몬 배열의 길이의 절반보다 폰켓몬의 종류가 많으면 길이만큼 새로운 아이들로 데려올 수 있고,  \n",
    "적으면 폰켓몬의 종류만큼 데려올 수 있다.  "
   ]
  },
  {
   "cell_type": "code",
   "execution_count": 2,
   "metadata": {},
   "outputs": [
    {
     "name": "stdout",
     "output_type": "stream",
     "text": [
      "2\n",
      "3\n",
      "2\n"
     ]
    }
   ],
   "source": [
    "def solution(nums):\n",
    "    return len(nums)//2 if len(nums)//2 < len(set(nums)) else len(set(nums))\n",
    "\n",
    "print(solution([3,1,2,3]))\n",
    "print(solution([3,3,3,2,2,4]))\n",
    "print(solution([3,3,3,2,2,2]))"
   ]
  },
  {
   "cell_type": "code",
   "execution_count": null,
   "metadata": {},
   "outputs": [
    {
     "name": "stdout",
     "output_type": "stream",
     "text": [
      "2\n",
      "3\n",
      "2\n"
     ]
    }
   ],
   "source": [
    "# 더 간단히 가능\n",
    "def solution(nums):\n",
    "    return min(len(nums)//2, len(set(nums)))\n",
    "\n",
    "print(solution([3,1,2,3]))\n",
    "print(solution([3,3,3,2,2,4]))\n",
    "print(solution([3,3,3,2,2,2]))"
   ]
  },
  {
   "cell_type": "code",
   "execution_count": null,
   "metadata": {},
   "outputs": [],
   "source": []
  }
 ],
 "metadata": {
  "kernelspec": {
   "display_name": "Python 3",
   "language": "python",
   "name": "python3"
  },
  "language_info": {
   "codemirror_mode": {
    "name": "ipython",
    "version": 3
   },
   "file_extension": ".py",
   "mimetype": "text/x-python",
   "name": "python",
   "nbconvert_exporter": "python",
   "pygments_lexer": "ipython3",
   "version": "3.11.6"
  }
 },
 "nbformat": 4,
 "nbformat_minor": 2
}
