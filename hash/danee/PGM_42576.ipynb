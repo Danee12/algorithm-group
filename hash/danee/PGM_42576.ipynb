{
 "cells": [
  {
   "cell_type": "markdown",
   "metadata": {},
   "source": [
    "## 42576. 완주하지 못한 선수\n",
    "\n",
    "### 1차 문제 풀이(모듈 사용)\n",
    "`Counter` 메서드를 쓰면 정말 간단하게 풀릴 문제라는 것이 가장 먼저 떠올랐다.  \n",
    "그래서 바로 `Counter` 를 사용해서 `participant` 와 `completion`의 차이를 계산했다."
   ]
  },
  {
   "cell_type": "code",
   "execution_count": 2,
   "metadata": {},
   "outputs": [
    {
     "name": "stdout",
     "output_type": "stream",
     "text": [
      "leo\n",
      "vinko\n",
      "mislav\n"
     ]
    }
   ],
   "source": [
    "# 모듈 사용하기\n",
    "from collections import Counter\n",
    "\n",
    "def solution(participant, completion):\n",
    "    not_finish = Counter(participant) - Counter(completion)\n",
    "    return list(not_finish.keys())[0]\n",
    "\n",
    "print(solution([\"leo\", \"kiki\", \"eden\"], [\"eden\", \"kiki\"]))\n",
    "print(solution([\"marina\", \"josipa\", \"nikola\", \"vinko\", \"filipa\"], [\"josipa\", \"filipa\", \"marina\", \"nikola\"]))\n",
    "print(solution([\"mislav\", \"stanko\", \"mislav\", \"ana\"], [\"stanko\", \"ana\", \"mislav\"]))\n"
   ]
  },
  {
   "cell_type": "markdown",
   "metadata": {},
   "source": [
    "### 2차 문제 풀이 (hash)\n",
    "직접 participant에 대해서 hash map을 만들었다. `Counter` 함수를 그대로 구현하고자 했다.\n",
    "\n",
    "참가자의 수를 카운트해서 완주한 참가자를 삭제하여 남은 한명을 반환했다."
   ]
  },
  {
   "cell_type": "code",
   "execution_count": 3,
   "metadata": {},
   "outputs": [
    {
     "name": "stdout",
     "output_type": "stream",
     "text": [
      "leo\n",
      "vinko\n",
      "mislav\n"
     ]
    }
   ],
   "source": [
    "# 해시 만들기\n",
    "def solution(participant, completion):\n",
    "    hash_dict = {}\n",
    "    \n",
    "    for parti in participant:\n",
    "        if parti in hash_dict:\n",
    "            hash_dict[parti] += 1\n",
    "        else: \n",
    "            hash_dict[parti] = 1\n",
    "\n",
    "    for comp in completion:\n",
    "        if hash_dict[comp] == 1:\n",
    "            del hash_dict[comp]\n",
    "        else:\n",
    "            hash_dict[comp] -= 1\n",
    "\n",
    "    return list(hash_dict.keys())[0]\n",
    "\n",
    "print(solution([\"leo\", \"kiki\", \"eden\"], [\"eden\", \"kiki\"]))\n",
    "print(solution([\"marina\", \"josipa\", \"nikola\", \"vinko\", \"filipa\"], [\"josipa\", \"filipa\", \"marina\", \"nikola\"]))\n",
    "print(solution([\"mislav\", \"stanko\", \"mislav\", \"ana\"], [\"stanko\", \"ana\", \"mislav\"]))"
   ]
  },
  {
   "cell_type": "code",
   "execution_count": null,
   "metadata": {},
   "outputs": [],
   "source": []
  }
 ],
 "metadata": {
  "kernelspec": {
   "display_name": "Python 3",
   "language": "python",
   "name": "python3"
  },
  "language_info": {
   "codemirror_mode": {
    "name": "ipython",
    "version": 3
   },
   "file_extension": ".py",
   "mimetype": "text/x-python",
   "name": "python",
   "nbconvert_exporter": "python",
   "pygments_lexer": "ipython3",
   "version": "3.11.6"
  }
 },
 "nbformat": 4,
 "nbformat_minor": 2
}
