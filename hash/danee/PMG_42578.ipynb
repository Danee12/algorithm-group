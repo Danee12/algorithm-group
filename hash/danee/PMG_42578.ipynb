{
 "cells": [
  {
   "cell_type": "markdown",
   "metadata": {},
   "source": [
    "## 42578. 의상\n",
    "\n",
    "### 문제 풀이\n",
    "1. 옷을 입을 수 있는 모든 조합의 수에서 1을 빼야된다(이거 부르는 용어를 까먹어버려따...)\n",
    "2. hash 를 사용해서 각 옷의 종류를 count하자!\n",
    "3. 조합의 수를 구하자"
   ]
  },
  {
   "cell_type": "code",
   "execution_count": null,
   "metadata": {
    "vscode": {
     "languageId": "plaintext"
    }
   },
   "outputs": [],
   "source": [
    "from functools import reduce\n",
    "\n",
    "def solution(clothes):\n",
    "    hash_clothes = {}\n",
    "    \n",
    "    for _, kind in clothes:\n",
    "        hash_clothes[kind] = hash_clothes.get(kind, 0) + 1\n",
    "            \n",
    "    return reduce(lambda acc, cur: acc * (cur+1), hash_clothes.values(), 1) - 1"
   ]
  }
 ],
 "metadata": {
  "language_info": {
   "name": "python"
  }
 },
 "nbformat": 4,
 "nbformat_minor": 2
}
