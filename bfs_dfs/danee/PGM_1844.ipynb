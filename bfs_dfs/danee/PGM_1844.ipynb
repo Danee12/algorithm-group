{
 "cells": [
  {
   "cell_type": "markdown",
   "metadata": {},
   "source": [
    "## 1844. 게임 맵 최단 거리\n",
    "\n",
    "### 문제 풀이\n",
    "1. 인강에서 들었던 ‘격자로 주어진 맵에서 탐색하기’ 를 사용하면 되겠다.\n",
    "    1. 양옆, 위아래를 탐색할 수 있도록 `di, dj` 를 준다.\n",
    "    2.  `maps` 를 탐색하며 방문한 곳을 9로 업데이트 해준다.\n",
    "    3. 방문했는지 안했는지 확인하는 `visited` 변수를 사용한다.\n",
    "2. 인강과는 달라야 하는 것\n",
    "    1. `visited` 변수 : 단순히 방문했는지 안했는지 확인하는 것 X, 현재 몇 개의 블록을 지나왔는지 카운트하여 저장한다."
   ]
  },
  {
   "cell_type": "code",
   "execution_count": 1,
   "metadata": {},
   "outputs": [
    {
     "name": "stdout",
     "output_type": "stream",
     "text": [
      "11\n",
      "-1\n"
     ]
    }
   ],
   "source": [
    "from collections import deque\n",
    "\n",
    "def solution(maps):\n",
    "    n = len(maps)\n",
    "    m = len(maps[0])\n",
    "    \n",
    "    di = [0, 1, 0, -1]\n",
    "    dj = [1, 0, -1, 0]\n",
    "    \n",
    "    queue = deque([[0,0]])\n",
    "    visited = [[0]*m for _ in range(n)]\n",
    "    visited[0][0] = 1\n",
    "    \n",
    "    while queue:\n",
    "        ci, cj = queue.popleft()\n",
    "        maps[ci][cj] = 9\n",
    "        \n",
    "        for k in range(4):\n",
    "            ni = ci + di[k]\n",
    "            nj = cj + dj[k]\n",
    "            \n",
    "            # maps의 범위를 넘어간다면\n",
    "            if not (ni >= 0 and ni < n and nj >= 0 and nj < m):\n",
    "                continue\n",
    "            # 갈 수 없는 곳이라면\n",
    "            if maps[ni][nj] != 1:\n",
    "                continue\n",
    "            # 이미 간 곳이라면\n",
    "            if visited[ni][nj] >= 1:\n",
    "                continue\n",
    "            \n",
    "            visited[ni][nj] = visited[ci][cj] + 1\n",
    "            queue.append([ni, nj])\n",
    "            \n",
    "    return visited[-1][-1] if visited[-1][-1] > 0 else -1\n",
    "\n",
    "print(solution([[1,0,1,1,1],[1,0,1,0,1],[1,0,1,1,1],[1,1,1,0,1],[0,0,0,0,1]]))  # 11\n",
    "print(solution([[1,0,1,1,1],[1,0,1,0,1],[1,0,1,1,1],[1,1,1,0,0],[0,0,0,0,1]]))  # -1"
   ]
  }
 ],
 "metadata": {
  "kernelspec": {
   "display_name": "Python 3",
   "language": "python",
   "name": "python3"
  },
  "language_info": {
   "codemirror_mode": {
    "name": "ipython",
    "version": 3
   },
   "file_extension": ".py",
   "mimetype": "text/x-python",
   "name": "python",
   "nbconvert_exporter": "python",
   "pygments_lexer": "ipython3",
   "version": "3.11.6"
  }
 },
 "nbformat": 4,
 "nbformat_minor": 2
}
