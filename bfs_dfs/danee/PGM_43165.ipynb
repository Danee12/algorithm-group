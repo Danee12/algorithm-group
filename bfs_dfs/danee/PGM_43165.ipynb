{
 "cells": [
  {
   "cell_type": "markdown",
   "metadata": {},
   "source": [
    "## 43165. 타겟 넘버\n",
    "\n",
    "### 1차 문제 풀이- DP (성공)\n",
    "\n",
    "이게 DP가 아니라고…? [N으로 표현] 문제가 바로 딱 보였다.\n",
    "\n",
    "1. 첫 번째 원소부터 `-n` 또는 `n` 로 시작한다.\n",
    "    \n",
    "    ⇒ DP 의 첫 번째 원소를 [0]으로 두자.\n",
    "    \n",
    "2.  원하는 값을 찾는 것이 아니라 모든 경우의 수를 찾는 것이다.\n",
    "    \n",
    "    ⇒  `set` 이 아니라 `list` 여야 한다.\n",
    "    \n",
    "3. DP 의 원소는 `numbers` 의 값을 차례로 더하고 뺀 값을 넣는다.\n",
    "    \n",
    "    ex. numbers = [1, 2]\n",
    "    \n",
    "    dp = [ [ 0 ] , [ 0 -1 , 0 + 1 ], [ ( 0 - 1 ) - 2, ( 0 - 1 ) + 2, ( 0 + 1 ) - 2, ( 0 + 1 ) + 2] ]\n",
    "    \n",
    "    ⇒ 여기서 앗차! `set` 이 아니니, 정말 수없이 커질 수 있겠구나. 하지만 생각난 아이디어는 끝까지 진행해보자.\n",
    "\n",
    "다시 생각해보니 이 코드가 BFS 라고 생각한다. DP의 원소에 저장하지 않고 계속 업데이트해간다면 BFS 와 다를 것은 없지 않나?\n"
   ]
  },
  {
   "cell_type": "code",
   "execution_count": 1,
   "metadata": {},
   "outputs": [
    {
     "name": "stdout",
     "output_type": "stream",
     "text": [
      "5\n",
      "2\n"
     ]
    }
   ],
   "source": [
    "# numbers = [0, n1, n2, n3, ...]\n",
    "# dp = [[0], [-n1, +n1], [...], ...]\n",
    "def solution(numbers, target):\n",
    "    numbers = numbers\n",
    "    dp = [[0]] + [[] for _ in range(len(numbers))]\n",
    "\n",
    "    for i in range(len(numbers)):\n",
    "        num = numbers[i]\n",
    "        for j in dp[i]:\n",
    "            dp[i+1].append(j+num)\n",
    "            dp[i+1].append(j-num)\n",
    "            \n",
    "    return dp[-1].count(target)\n",
    "\n",
    "print(solution([1, 1, 1, 1, 1], 3))     # 5\n",
    "print(solution([4, 1, 2, 1], 4))        # 2"
   ]
  },
  {
   "cell_type": "markdown",
   "metadata": {},
   "source": [
    "### 2차 문제 풀이 - BFS (성공)\n",
    "\n",
    "`queue` 를 사용해보자고. \n",
    "\n",
    "(예시는 2번째 케이스인 [4, 1, 2, 1]로 쓴다)\n",
    "\n",
    "1. 처음에는 단순하게 `queue` 안에 `[-4, +4]` 를 넣고 다음 값인 1과 연산한 것을 집어넣으려고 했다.\n",
    "    \n",
    "    여기서 문제! 연산을 해서 `queue` 안에 들어간 숫자들이 몇 번째까지 연산한 것인지 알 수 없다!\n",
    "    \n",
    "    ⇒ index 가 필요 하다.\n",
    "    \n",
    "    ⇒ `queue` 구성 : `[[값, idx], ...]`\n",
    "    \n",
    "2. 연산한 값들은 어차피 `queue` 에 들어가야 한다. 따로 값을 저장하는 변수가 필요할까?\n",
    "    \n",
    "    ⇒ while 문을 돌 때 `idx` 가 마지막 노드라면 그 값과 `target` 과 비교하자.\n"
   ]
  },
  {
   "cell_type": "code",
   "execution_count": 2,
   "metadata": {},
   "outputs": [
    {
     "name": "stdout",
     "output_type": "stream",
     "text": [
      "5\n",
      "2\n"
     ]
    }
   ],
   "source": [
    "# 2차 풀이 (bfs)\n",
    "from collections import deque\n",
    "\n",
    "def solution(numbers, target):\n",
    "    queue = deque([[numbers[0], 0], [-numbers[0], 0]])\n",
    "    cnt = 0\n",
    "    \n",
    "    while queue:\n",
    "        cur, idx = queue.popleft()\n",
    "        idx += 1\n",
    "        \n",
    "        # 마지막 노드가 아닐 때\n",
    "        if idx < len(numbers):\n",
    "            queue.append([cur+numbers[idx], idx])\n",
    "            queue.append([cur-numbers[idx], idx])\n",
    "            \n",
    "        # 마지막 노드일 때\n",
    "        else:\n",
    "            if cur == target:\n",
    "                cnt += 1\n",
    "    \n",
    "    return cnt\n",
    "    \n",
    "print(solution([1, 1, 1, 1, 1], 3))     # 5\n",
    "print(solution([4, 1, 2, 1], 4))        # 2"
   ]
  },
  {
   "cell_type": "markdown",
   "metadata": {},
   "source": [
    "### 3차 문제 풀이 - DFS(stack) (성공)\n",
    "\n",
    "stack 을 사용한 DFS 도 해봤다.\n",
    "\n",
    "BFS 코드와 달라지는 것은 `queue` 가 `list` 가 되어 뒤부터 뺀다는 것!\n"
   ]
  },
  {
   "cell_type": "code",
   "execution_count": 3,
   "metadata": {},
   "outputs": [
    {
     "name": "stdout",
     "output_type": "stream",
     "text": [
      "5\n",
      "2\n"
     ]
    }
   ],
   "source": [
    "def solution(numbers, target):\n",
    "    stack = [[numbers[0], 0], [-numbers[0], 0]]\n",
    "    cnt = 0\n",
    "    \n",
    "    while stack:\n",
    "        cur, idx = stack.pop()\n",
    "        idx += 1\n",
    "\n",
    "    # 마지막 노드가 아닐 때\n",
    "        if idx < len(numbers):\n",
    "            stack.append([cur+numbers[idx], idx])\n",
    "            stack.append([cur-numbers[idx], idx])\n",
    "            \n",
    "        # 마지막 노드일 때\n",
    "        else:\n",
    "            if cur == target:\n",
    "                cnt += 1  \n",
    "    \n",
    "    return cnt\n",
    "\n",
    "print(solution([1, 1, 1, 1, 1], 3))     # 5\n",
    "print(solution([4, 1, 2, 1], 4))        # 2"
   ]
  },
  {
   "cell_type": "markdown",
   "metadata": {},
   "source": [
    "### 4차 문제 풀이\n",
    "\n",
    "DFS가 재귀로도 할 수 있다고 해서 재귀까지 도전!\n",
    "\n",
    "(예시는 2번째 케이스인 [4, 1, 2, 1]로 쓴다)\n",
    "\n",
    "1. 재귀형태로 고치는 것은 크게 어렵지 않다. 다만 마지막 노드에서 target과 같은지 아닌지 비교하는 것이 포인트\n",
    "    \n",
    "    ⇒ dfs 재귀 함수에 `cur` 변수를 받아서 현재까지 계산한 값이 얼마인지 확인한다. `idx` 변수를 받아서 현재가 마지막 노드인지 확인한다.\n",
    "    \n",
    "2. 종료 조건 : 마지막 노드일 때, `cur` 값이 `target` 과 같다면 1을, 아니면 0을 반환한다.\n",
    "3. 데이터 통합: 이전 노드에서 현재 값을 더하는 경우와 빼는 경우를 서로 더한다."
   ]
  },
  {
   "cell_type": "code",
   "execution_count": 4,
   "metadata": {},
   "outputs": [],
   "source": [
    "def dfs(numbers, target, idx, cur):\n",
    "    # idx가 numbers의 길이와 같다면 끝\n",
    "    if idx == len(numbers):\n",
    "        if cur == target: return 1\n",
    "        else: return 0\n",
    "    \n",
    "    return dfs(numbers, target, idx+1, cur+numbers[idx]) + dfs(numbers, target, idx+1, cur-numbers[idx])\n",
    "    \n",
    "def solution(numbers, target):\n",
    "    return dfs(numbers, target, 0, 0)"
   ]
  }
 ],
 "metadata": {
  "kernelspec": {
   "display_name": "Python 3",
   "language": "python",
   "name": "python3"
  },
  "language_info": {
   "codemirror_mode": {
    "name": "ipython",
    "version": 3
   },
   "file_extension": ".py",
   "mimetype": "text/x-python",
   "name": "python",
   "nbconvert_exporter": "python",
   "pygments_lexer": "ipython3",
   "version": "3.11.6"
  }
 },
 "nbformat": 4,
 "nbformat_minor": 2
}
