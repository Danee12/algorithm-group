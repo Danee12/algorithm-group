{
 "cells": [
  {
   "cell_type": "markdown",
   "metadata": {},
   "source": [
    "## 43162. 네트워크\n",
    "### 1차 문제 풀이(성공)\n",
    "1. 각 컴퓨터와 이어져 있는 컴퓨터에 대한 graph 변수를 만들어야 할까?\n",
    "    \n",
    "    ⇒ No! `computers` 그대로 사용해도 OK!\n",
    "    \n",
    "2. 직접적인 연결이 아니어도, 즉 몇 다리 거쳐도 연결만 되어 있다면 같은 그룹\n",
    "    \n",
    "    ⇒ 이미 방문한 컴퓨터라면 다시 방문하지 않아도 된다.\n",
    "    \n",
    "    ⇒ 0번 컴퓨터부터 차례로 확인하자.\n",
    "    \n",
    "3. 연결된 네트워크인지 확인이 필요하다\n",
    "    \n",
    "    ⇒ BFS 통해서 확인해보자.\n",
    "    \n",
    "    ⇒ 연결이 끊길 때, 그룹의 개수를 하나 늘린다.\n",
    "    \n",
    "    ⇒ 연결이 끊겼다면, 방문하지 않은 컴퓨터를 start 지점으로 다시 BFS를 시작한다."
   ]
  },
  {
   "cell_type": "code",
   "execution_count": 1,
   "metadata": {},
   "outputs": [
    {
     "name": "stdout",
     "output_type": "stream",
     "text": [
      "2\n",
      "1\n",
      "2\n"
     ]
    }
   ],
   "source": [
    "from collections import deque\n",
    "\n",
    "def solution(n, computers):\n",
    "    cnt = 0     # 그룹 수\n",
    "    visited = [False]*n     # 각 컴퓨터에 접근을 했는지 저장하는 리스트\n",
    "    \n",
    "    # bfs를 이용해서 이어져있는 네트워크 확인\n",
    "    for i in range(n):\n",
    "        # 이미 방문한 컴퓨터라면 pass\n",
    "        if visited[i] == True:\n",
    "            continue\n",
    "        \n",
    "        visited[i] = True\n",
    "        \n",
    "        queue = deque([i])\n",
    "        while queue:\n",
    "            cur = queue.popleft()\n",
    "            \n",
    "            for idx, next in enumerate(computers[cur]):\n",
    "                # 이미 방문한 컴퓨터라면 패스\n",
    "                if visited[idx] == True:\n",
    "                    continue\n",
    "                # 연결되지 않은 컴퓨터라면 패스\n",
    "                if next == 0:\n",
    "                    continue\n",
    "                \n",
    "                queue.append(idx)\n",
    "                visited[idx] = True\n",
    "        cnt += 1\n",
    "    \n",
    "    return cnt\n",
    "\n",
    "print(solution(3, [[1, 1, 0], [1, 1, 0], [0, 0, 1]]))   # 2\n",
    "print(solution(3, [[1, 1, 0], [1, 1, 1], [0, 1, 1]]))   # 1\n",
    "print(solution(5, [[1, 1, 0, 0, 0], [1, 1, 1, 0, 1], [0, 1, 1, 0, 0], [0, 0, 0, 1, 0], [0, 1, 0, 0, 1]]))   # 2\n"
   ]
  },
  {
   "cell_type": "markdown",
   "metadata": {},
   "source": [
    "### 2차 문제 풀이(성공) - 이게 더 느려\n",
    "\n",
    "1차 설명 중 1번에서 따로 `graph` 변수를 만들지 않았는데, 만들었을 때와 시간 차이를 알고 싶었다.\n",
    "\n",
    "[ 변경한 부분 ]\n",
    "\n",
    "1. `graph` 변수 생성\n",
    "    - 각 컴퓨터와 연결된 컴퓨터를 담은 리스트\n",
    "    - 자기자신을 넣지 않았다.\n",
    "2. 1번에 따라 BFS 수정"
   ]
  },
  {
   "cell_type": "code",
   "execution_count": 2,
   "metadata": {},
   "outputs": [
    {
     "name": "stdout",
     "output_type": "stream",
     "text": [
      "2\n",
      "1\n",
      "2\n"
     ]
    }
   ],
   "source": [
    "from collections import deque\n",
    "\n",
    "def solution(n, computers):\n",
    "    cnt = 0     # 그룹 수\n",
    "    visited = [False]*n     # 각 컴퓨터에 접근을 했는지 저장하는 리스트\n",
    "    \n",
    "    # 연결된 컴퓨터만 담은 graph 변수 만들기\n",
    "    graph = [[] for _ in range(n)]\n",
    "    for i in range(n):\n",
    "        for j in range(n):\n",
    "            if i == j:\n",
    "                continue\n",
    "            if computers[i][j] == 1:\n",
    "                graph[i].append(j)           \n",
    "                \n",
    "    # bfs를 이용해서 이어져있는 네트워크 확인\n",
    "    for i in range(n):\n",
    "        # 이미 방문한 컴퓨터라면 pass\n",
    "        if visited[i] == True:\n",
    "            continue\n",
    "        \n",
    "        visited[i] = True\n",
    "        \n",
    "        queue = deque([i])\n",
    "        while queue:\n",
    "            cur = queue.popleft()\n",
    "            \n",
    "            for next in graph[cur]:\n",
    "                if visited[next] == True:\n",
    "                    continue\n",
    "                \n",
    "                queue.append(next)\n",
    "                visited[next] = True\n",
    "        cnt += 1\n",
    "    \n",
    "    return cnt\n",
    "\n",
    "print(solution(3, [[1, 1, 0], [1, 1, 0], [0, 0, 1]]))   # 2\n",
    "print(solution(3, [[1, 1, 0], [1, 1, 1], [0, 1, 1]]))   # 1\n",
    "print(solution(5, [[1, 1, 0, 0, 0], [1, 1, 1, 0, 1], [0, 1, 1, 0, 0], [0, 0, 0, 1, 0], [0, 1, 0, 0, 1]]))   # 2\n"
   ]
  }
 ],
 "metadata": {
  "kernelspec": {
   "display_name": "Python 3",
   "language": "python",
   "name": "python3"
  },
  "language_info": {
   "codemirror_mode": {
    "name": "ipython",
    "version": 3
   },
   "file_extension": ".py",
   "mimetype": "text/x-python",
   "name": "python",
   "nbconvert_exporter": "python",
   "pygments_lexer": "ipython3",
   "version": "3.11.6"
  }
 },
 "nbformat": 4,
 "nbformat_minor": 2
}
