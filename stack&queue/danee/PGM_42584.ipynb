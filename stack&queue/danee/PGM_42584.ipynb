{
 "cells": [
  {
   "cell_type": "markdown",
   "metadata": {},
   "source": [
    "## 42584. 주식 가격\n",
    "\n",
    "### 1차 풀이 - 효율성 검정에서 시간 초과\n",
    "1. 2중 for문을 사용하여 맨 앞의 값과 뒤의 값들을 비교하자.\n",
    "    1. i번째 주식 가격과 i+1번째 부터 마지막까지 주식가격을 비교하여 값이 커지면 `break`"
   ]
  },
  {
   "cell_type": "code",
   "execution_count": 2,
   "metadata": {},
   "outputs": [
    {
     "name": "stdout",
     "output_type": "stream",
     "text": [
      "[4, 3, 1, 1, 0]\n"
     ]
    }
   ],
   "source": [
    "def solution(prices):\n",
    "    answer = []\n",
    "    \n",
    "    for i, price in enumerate(prices):\n",
    "        time = 0\n",
    "        \n",
    "        for cur in prices[i+1:]:\n",
    "            time+=1\n",
    "            if price > cur:\n",
    "                break\n",
    "        answer.append(time)\n",
    "    \n",
    "    return answer\n",
    "    \n",
    "print(solution([1,2,3,2,3]))   # [4,3,1,1,0]"
   ]
  },
  {
   "cell_type": "markdown",
   "metadata": {},
   "source": [
    "### 2차 풀이\n",
    "정확성 테스트는 전부 맞았는데 효율성 테스트에서 실패했다는 것은 어디선가 병목이 일어났다.\n",
    "\n",
    "이 문제는 queue 문제니까 `from collections import deque` 으로 수정해봤다.\n",
    "\n",
    "[ 변경 사항 ]\n",
    "\n",
    "1. list를 `deque` 로 바꾸기\n",
    "    1. `deque` 로 바꾸고 나니 `popleft()` 를 사용해서 가격을 아예 빼도 된다. ⇒ while 문으로 수정\n",
    "        \n",
    "        (1차에서 for문을 썼기 때문에 pop()을 사용할 수 없었던 것….ㅠ 바보…)"
   ]
  },
  {
   "cell_type": "code",
   "execution_count": 1,
   "metadata": {},
   "outputs": [
    {
     "name": "stdout",
     "output_type": "stream",
     "text": [
      "[4, 3, 1, 1, 0]\n"
     ]
    }
   ],
   "source": [
    "from collections import deque\n",
    "\n",
    "def solution(prices):\n",
    "    queue = deque(prices)\n",
    "    answer = []\n",
    "    \n",
    "    while queue:\n",
    "        price = queue.popleft()\n",
    "        time = 0\n",
    "        for i in queue:\n",
    "            time+=1\n",
    "            if price > i:\n",
    "                break\n",
    "        answer.append(time)\n",
    "    \n",
    "    return answer\n",
    "\n",
    "print(solution([1,2,3,2,3]))   # [4,3,1,1,0]"
   ]
  },
  {
   "cell_type": "code",
   "execution_count": null,
   "metadata": {},
   "outputs": [],
   "source": []
  }
 ],
 "metadata": {
  "kernelspec": {
   "display_name": "Python 3",
   "language": "python",
   "name": "python3"
  },
  "language_info": {
   "codemirror_mode": {
    "name": "ipython",
    "version": 3
   },
   "file_extension": ".py",
   "mimetype": "text/x-python",
   "name": "python",
   "nbconvert_exporter": "python",
   "pygments_lexer": "ipython3",
   "version": "3.11.6"
  }
 },
 "nbformat": 4,
 "nbformat_minor": 2
}
