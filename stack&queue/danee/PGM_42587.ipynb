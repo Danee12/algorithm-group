{
 "cells": [
  {
   "cell_type": "markdown",
   "metadata": {},
   "source": [
    "## 42587. 프로세스\n",
    "\n",
    "### 1차 문제 풀이\n",
    "1. 실행해야 할 프로세스가 없어질 때까지 while문을 돌린다.\n",
    "2. 0번째의 프로세스의 우선순위가 가장 높을 때 \n",
    "    1. 해당 프로세스가 내가 알고 싶은 기능일 때 \n",
    "        1. 몇 번째 인지 반환하고 끝\n",
    "    2. 해당 프로세스가 내가 알고 싶은 프로세스가 아닐 때\n",
    "        1. 프로세스를 몇 번 실행했는지 카운트\n",
    "        2. 실행한 프로세스를 지운다.\n",
    "3. 0번째의 프로세스의 우선순위가 가장 높지 않을 때\n",
    "    1. 0번째 프로세스를 가장 뒤에 넣는다.\n",
    "\n",
    "[ 여기서 한 실수 ]\n",
    "\n",
    "- answer 을 1로 초기화할 것이 아니라 0으로 한 후 우선순위가 가장 높을 때 answer += 1을 해줬어야 했다."
   ]
  },
  {
   "cell_type": "code",
   "execution_count": 1,
   "metadata": {},
   "outputs": [
    {
     "name": "stdout",
     "output_type": "stream",
     "text": [
      "1\n",
      "5\n"
     ]
    }
   ],
   "source": [
    "def solution(priorities, location):\n",
    "    answer = 1\n",
    "    \n",
    "    # 개발할 기능이 없어질 때까지\n",
    "    while priorities:\n",
    "        # 0번째 기능의 우선순위가 가장 높을 때\n",
    "        if priorities[0] == max(priorities):\n",
    "            # 해당 기능이 내가 알고 싶어하는 기능이었다면 몇 번째인지 반환하고 끝\n",
    "            if location == 0:\n",
    "                return answer\n",
    "            # 그렇지 않다면, 0번 째 기능을 뺀다.\n",
    "            else:\n",
    "                answer += 1\n",
    "                priorities.pop(0)\n",
    "                location -= 1\n",
    "        # 그렇지 않다면, 0번 째 기능을 빼서 가장 뒤에 넣는다.\n",
    "        else:\n",
    "            priorities.append(priorities.pop(0))\n",
    "            location = location-1 if location>0 else len(priorities)-1\n",
    "    \n",
    "    return answer\n",
    "\n",
    "print(solution([2, 1, 3, 2], 2))            # 1\n",
    "print(solution([1, 1, 9, 1, 1, 1], 0))      # 5 "
   ]
  },
  {
   "cell_type": "markdown",
   "metadata": {},
   "source": [
    "### 2-1차 문제 풀이\n",
    "[ 변경 내용 ]\n",
    "\n",
    "- `location` 을 변경하고 싶지 않음\n",
    "    - 프로세스의 첫 배치와 우선순위를 tuple로 묶어버리기\n",
    "- `while`문의 한 회차마다 `max`를 계속 구함\n",
    "    - 변수로 `max` 값을 저장해두고, 프로세스를 실행하게 되면 업데이트 하기\n",
    "- `answer = 0` 으로 초기화"
   ]
  },
  {
   "cell_type": "code",
   "execution_count": 2,
   "metadata": {},
   "outputs": [
    {
     "name": "stdout",
     "output_type": "stream",
     "text": [
      "1\n",
      "5\n"
     ]
    }
   ],
   "source": [
    "def solution(priorities, location):\n",
    "    queue = [(i, p) for i, p in enumerate(priorities)]\n",
    "    max_num = max(priorities)\n",
    "    answer = 0\n",
    "    \n",
    "    while queue:\n",
    "        current = queue.pop(0)\n",
    "\n",
    "        if current[1] == max_num:\n",
    "            answer += 1\n",
    "            if current[0] == location:\n",
    "                return answer\n",
    "            max_num = max([p[1] for p in queue])\n",
    "        else:\n",
    "            queue.append(current)\n",
    "\n",
    "print(solution([2, 1, 3, 2], 2))            # 1\n",
    "print(solution([1, 1, 9, 1, 1, 1], 0))      # 5"
   ]
  },
  {
   "cell_type": "markdown",
   "metadata": {},
   "source": [
    "### 2-2 차 문제 풀이\n",
    "[ 변경 내용 ]\n",
    "\n",
    "- `max`의 `key` 사용"
   ]
  },
  {
   "cell_type": "code",
   "execution_count": 3,
   "metadata": {},
   "outputs": [
    {
     "name": "stdout",
     "output_type": "stream",
     "text": [
      "1\n",
      "5\n"
     ]
    }
   ],
   "source": [
    "def solution(priorities, location):\n",
    "    queue = [(i, p) for i, p in enumerate(priorities)]\n",
    "    max_num = max(priorities)\n",
    "    answer = 0\n",
    "    \n",
    "    while queue:\n",
    "        current = queue.pop(0)\n",
    "\n",
    "        if current[1] == max_num:\n",
    "            answer += 1\n",
    "            if current[0] == location:\n",
    "                return answer\n",
    "            max_num = max(queue, key=lambda x: x[1])[1]\n",
    "        else:\n",
    "            queue.append(current)\n",
    "            \n",
    "print(solution([2, 1, 3, 2], 2))            # 1\n",
    "print(solution([1, 1, 9, 1, 1, 1], 0))      # 5 "
   ]
  },
  {
   "cell_type": "code",
   "execution_count": null,
   "metadata": {},
   "outputs": [],
   "source": []
  }
 ],
 "metadata": {
  "kernelspec": {
   "display_name": "Python 3",
   "language": "python",
   "name": "python3"
  },
  "language_info": {
   "codemirror_mode": {
    "name": "ipython",
    "version": 3
   },
   "file_extension": ".py",
   "mimetype": "text/x-python",
   "name": "python",
   "nbconvert_exporter": "python",
   "pygments_lexer": "ipython3",
   "version": "3.11.6"
  }
 },
 "nbformat": 4,
 "nbformat_minor": 2
}
