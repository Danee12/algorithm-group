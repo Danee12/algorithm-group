{
 "cells": [
  {
   "cell_type": "markdown",
   "metadata": {},
   "source": [
    "## 42586. 기능 개발\n",
    "### 1차 문제 풀이\n",
    "1. 각 작업의 완성 일자 구하기 ⇒ `periods`\n",
    "2. 완성 일자 리스트를 이용해서 배포 카운트\n",
    "    1. 앞의 날짜를 저장해서 그 날짜보다 짧은 기능들 수 카운트\n",
    "    2. 날짜가 긴 기능을 만나면 저장된 날짜 업데이트"
   ]
  },
  {
   "cell_type": "code",
   "execution_count": 1,
   "metadata": {},
   "outputs": [
    {
     "name": "stdout",
     "output_type": "stream",
     "text": [
      "[2, 1]\n",
      "[1, 3, 2]\n"
     ]
    }
   ],
   "source": [
    "import math\n",
    "\n",
    "def solution(progresses, speeds):\n",
    "    # 각 작업의 완성 일자 \n",
    "    periods = []\n",
    "    for progress, speed in zip(progresses, speeds):\n",
    "        periods.append(math.ceil((100-progress) / speed))\n",
    "\n",
    "    # 배포 횟수 카운트\n",
    "    count = 0\n",
    "    counts = []\n",
    "    current_day = periods[0]\n",
    "\n",
    "    for period in periods:\n",
    "        if current_day < period:\n",
    "            counts.append(count)\n",
    "            count = 1\n",
    "            current_day = period\n",
    "        else:\n",
    "            count += 1\n",
    "    counts.append(count)\n",
    "    \n",
    "    return counts\n",
    "\n",
    "print(solution([93, 30, 55], [1, 30, 5]))\n",
    "print(solution([95, 90, 99, 99, 80, 99], [1, 1, 1, 1, 1, 1]))"
   ]
  },
  {
   "cell_type": "markdown",
   "metadata": {},
   "source": [
    "### 2차 문제 풀이\n",
    "배포 카운트할 때 날짜를 저장하는 변수가 필요없음을 느꼈다.  \n",
    "\n",
    "다음 기능의 배포 날짜보다 작을 때 `count` 를 올려주면 된다.  \n",
    "\n",
    "단, 마지막 기능은 다음의 기능이 없으므로 에러! 마지막 기능은 for문으로 돌리지 말자.  "
   ]
  },
  {
   "cell_type": "code",
   "execution_count": 2,
   "metadata": {},
   "outputs": [
    {
     "name": "stdout",
     "output_type": "stream",
     "text": [
      "[2, 1]\n",
      "[1, 3, 2]\n"
     ]
    }
   ],
   "source": [
    "import math\n",
    "\n",
    "def solution(progresses, speeds):\n",
    "    # 각 작업의 완성 일자 \n",
    "    periods = []\n",
    "    for progress, speed in zip(progresses, speeds):\n",
    "        periods.append(math.ceil((100-progress) / speed))\n",
    "\n",
    "    # 배포 횟수 카운트\n",
    "    count = 1\n",
    "    counts = []\n",
    "\n",
    "    for i in range(len(periods[:-1])):\n",
    "        if periods[i] < periods[i+1]:\n",
    "            counts.append(count)\n",
    "            count = 1\n",
    "        else:\n",
    "            periods[i+1] = periods[i]\n",
    "            count += 1\n",
    "    counts.append(count)\n",
    "    \n",
    "    return counts\n",
    "\n",
    "print(solution([93, 30, 55], [1, 30, 5]))\n",
    "print(solution([95, 90, 99, 99, 80, 99], [1, 1, 1, 1, 1, 1]))"
   ]
  },
  {
   "cell_type": "markdown",
   "metadata": {},
   "source": [
    "### 3차 문제 풀이\n",
    "스택/큐 문제이기 때문에 다시 한번 더 생각을 해봤다. 어떻게 하면되지…? \n",
    "\n",
    "그리고 이 문제 분명 while을 쓸 수 있을 것 같은데… 고민했다.\n",
    "\n",
    "1. `progresses` 의 길이가 0이 될 때까지 while문을 돌린다.\n",
    "    \n",
    "    하루가 while문의 한 턴이라고 생각했다. 첫 번째 기능이 100%가 될 때까지 `days`에 1을 더한다.\n",
    "    \n",
    "2. 기능이 100%가 되었을 때 `progresses` 와 `speeds` 의 가장 앞에 있는 원소를 `pop(0)` 해버리고 `count` 를 1을 더한다.\n",
    "3. 그렇게 100%가 안된 기능을 만났을 때 `count` 를 결과 리스트에 저장하고 다시 `count` 를 0으로 초기화"
   ]
  },
  {
   "cell_type": "code",
   "execution_count": 3,
   "metadata": {},
   "outputs": [
    {
     "name": "stdout",
     "output_type": "stream",
     "text": [
      "[2, 1]\n",
      "[1, 3, 2]\n"
     ]
    }
   ],
   "source": [
    "def solution(progresses, speeds):\n",
    "    deploys = []\n",
    "    days = 0\n",
    "    count = 0\n",
    "    \n",
    "    while len(progresses) > 0 :\n",
    "        if progresses[0] + speeds[0]*days < 100:\n",
    "            if count > 0:\n",
    "                deploys.append(count)\n",
    "                count = 0\n",
    "            days += 1\n",
    "        \n",
    "        else:\n",
    "            progresses.pop(0)\n",
    "            speeds.pop(0)\n",
    "            count += 1\n",
    "            \n",
    "    deploys.append(count)    \n",
    "    return deploys\n",
    "\n",
    "print(solution([93, 30, 55], [1, 30, 5]))\n",
    "print(solution([95, 90, 99, 99, 80, 99], [1, 1, 1, 1, 1, 1]))"
   ]
  },
  {
   "cell_type": "code",
   "execution_count": null,
   "metadata": {},
   "outputs": [],
   "source": []
  }
 ],
 "metadata": {
  "kernelspec": {
   "display_name": "Python 3",
   "language": "python",
   "name": "python3"
  },
  "language_info": {
   "codemirror_mode": {
    "name": "ipython",
    "version": 3
   },
   "file_extension": ".py",
   "mimetype": "text/x-python",
   "name": "python",
   "nbconvert_exporter": "python",
   "pygments_lexer": "ipython3",
   "version": "3.11.6"
  }
 },
 "nbformat": 4,
 "nbformat_minor": 2
}
