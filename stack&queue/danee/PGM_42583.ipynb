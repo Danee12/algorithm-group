{
 "cells": [
  {
   "cell_type": "markdown",
   "metadata": {},
   "source": [
    "## 42583. 다리를 지나는 트럭\n",
    "- 다시 풀어보고 정리할 것"
   ]
  },
  {
   "cell_type": "code",
   "execution_count": 1,
   "metadata": {},
   "outputs": [
    {
     "name": "stdout",
     "output_type": "stream",
     "text": [
      "8\n",
      "101\n",
      "110\n"
     ]
    }
   ],
   "source": [
    "def solution(bridge_length, weight, truck_weights):\n",
    "    truck_queue = [(w,0) for w in truck_weights]\n",
    "    answer = 0\n",
    "    crossing = []\n",
    "    \n",
    "    while truck_queue:\n",
    "        cur = truck_queue[0]\n",
    "        sum_crossing = sum(map(lambda x: x[0], crossing))\n",
    "        \n",
    "        if sum_crossing+cur[0] <= weight:\n",
    "            crossing.append(cur)\n",
    "            truck_queue.pop(0)\n",
    "            \n",
    "        answer += 1\n",
    "        crossing = [(w, t+1) for w, t in crossing]\n",
    "        if crossing and crossing[0][1] == bridge_length:\n",
    "            crossing.pop(0)\n",
    "    \n",
    "    while crossing:\n",
    "        cur = crossing[0]\n",
    "        \n",
    "        if cur[1] == bridge_length:\n",
    "            crossing.pop(0)\n",
    "        \n",
    "        answer += 1\n",
    "        crossing = [(w, t+1) for w, t in crossing]\n",
    "    \n",
    "    return answer\n",
    "\n",
    "print(solution(2, 10, [7,4,5,6]))\n",
    "print(solution(100, 100, [10]))\n",
    "print(solution(100, 100, [10,10,10,10,10,10,10,10,10,10]))"
   ]
  }
 ],
 "metadata": {
  "kernelspec": {
   "display_name": "Python 3",
   "language": "python",
   "name": "python3"
  },
  "language_info": {
   "codemirror_mode": {
    "name": "ipython",
    "version": 3
   },
   "file_extension": ".py",
   "mimetype": "text/x-python",
   "name": "python",
   "nbconvert_exporter": "python",
   "pygments_lexer": "ipython3",
   "version": "3.11.6"
  }
 },
 "nbformat": 4,
 "nbformat_minor": 2
}
