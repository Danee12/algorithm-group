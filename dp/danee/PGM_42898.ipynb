{
 "cells": [
  {
   "cell_type": "markdown",
   "metadata": {},
   "source": [
    "## 42898. 등굣길\n",
    "\n",
    "### 문제 풀이\n",
    "고등학생때 확률과 통계에서 자주 나왔던 문제다. 출발지점부터 도착지점까지 최단경로의 수 문제\n",
    "\n",
    "시작점을 기준으로 오른쪽, 아래쪽 일직선을 전부 1로 두고 교점에 따라 더하기!"
   ]
  },
  {
   "cell_type": "code",
   "execution_count": 1,
   "metadata": {},
   "outputs": [
    {
     "name": "stdout",
     "output_type": "stream",
     "text": [
      "4\n"
     ]
    }
   ],
   "source": [
    "def solution(m, n, puddles):\n",
    "    # 웅덩이의 행과 열이 거꾸로 뒤집어져있으므로 다시 복구\n",
    "    puddles = [[q, p] for p, q in puddles]\n",
    "    # nxm 행렬을 dp 행렬로 갖는다.\n",
    "    dp = [[0]*(m+1) for _ in range(n+1)]\n",
    "    # 시작점은 1\n",
    "    dp[1][1] = 1\n",
    "    \n",
    "    for i in range(1, n+1):\n",
    "        for j in range(1, m+1):\n",
    "            # [1, 1]은 넘어가기\n",
    "            if i == 1 and j == 1: continue\n",
    "            \n",
    "            # 웅덩이는 0\n",
    "            if [i, j] in puddles:\n",
    "                dp[i][j] = 0\n",
    "            # 왼쪽에서 오는 경우랑 위쪽에서 오는 경우의 수를 더한다.\n",
    "            else:\n",
    "                dp[i][j] = (dp[i-1][j] + dp[i][j-1])%1000000007\n",
    "    return dp[n][m]\n",
    "\n",
    "print(solution(4, 3, [[2, 2]]))     # 4"
   ]
  }
 ],
 "metadata": {
  "kernelspec": {
   "display_name": "Python 3",
   "language": "python",
   "name": "python3"
  },
  "language_info": {
   "codemirror_mode": {
    "name": "ipython",
    "version": 3
   },
   "file_extension": ".py",
   "mimetype": "text/x-python",
   "name": "python",
   "nbconvert_exporter": "python",
   "pygments_lexer": "ipython3",
   "version": "3.11.6"
  }
 },
 "nbformat": 4,
 "nbformat_minor": 2
}
