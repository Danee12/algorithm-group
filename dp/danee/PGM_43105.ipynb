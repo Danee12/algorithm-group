{
 "cells": [
  {
   "cell_type": "markdown",
   "metadata": {},
   "source": [
    "## 43105. 정수 삼각형\n",
    "\n",
    "### 1차 문제 풀이(성공)\n",
    "1. 각 원소가 바닥이라고 생각하고 최대값을 저장하자. ⇒ DP\n",
    "2. 각 원소는 어떤 숫자와 더하는 것일까?\n",
    "    \n",
    "    ![image.png](https://prod-files-secure.s3.us-west-2.amazonaws.com/5feaedad-0bc5-4d57-9835-70f14863487a/fc2a91bc-7988-4827-a5a2-8d4bc2412d28/image.png)\n",
    "    \n",
    "3. 위의 그림처럼 진행되겠네! 0번째와 마지막번째가 아닌 가운데는 계속 MAX인지 확인해야 하는데 이걸 분기 처리를 해야할까?\n",
    "    \n",
    "    ⇒ NOPE! 각 층의 앞뒤에 0을 넣어서 일반화시키자!\n",
    "    \n",
    "4. 마지막층의 MAX 반환하면 끝!"
   ]
  },
  {
   "cell_type": "code",
   "execution_count": 1,
   "metadata": {},
   "outputs": [
    {
     "name": "stdout",
     "output_type": "stream",
     "text": [
      "30\n"
     ]
    }
   ],
   "source": [
    "def solution(triangle):\n",
    "    dps = [[]] * len(triangle)\n",
    "    dps[0] = [0, triangle[0][0], 0]\n",
    "    \n",
    "    for i in range(1, len(triangle)):\n",
    "        dp = [0] * (len(triangle[i])+2)\n",
    "        \n",
    "        for j in range(1, len(triangle[i])+1):\n",
    "            dp[j] = max(dps[i-1][j-1], dps[i-1][j])+triangle[i][j-1]\n",
    "        \n",
    "        dps[i] = dp\n",
    "    \n",
    "    return max(dps[-1])\n",
    "\n",
    "print(solution([[7], [3, 8], [8, 1, 0], [2, 7, 4, 4], [4, 5, 2, 6, 5]]))    # 30"
   ]
  },
  {
   "cell_type": "markdown",
   "metadata": {},
   "source": [
    "### 2차 문제 풀이\n",
    "\n",
    "1. 가장 바닥부터 위로 올라오자.\n",
    "2. DP 배열을 만들 필요가 없다. `triangle` 변수에 덮어씌우자.\n",
    "3. 위의 방식과 동일하지만 위로 올라가기 때문에 양옆에 0이 필요없다."
   ]
  },
  {
   "cell_type": "code",
   "execution_count": null,
   "metadata": {},
   "outputs": [
    {
     "name": "stdout",
     "output_type": "stream",
     "text": [
      "30\n"
     ]
    }
   ],
   "source": [
    "# while 문\n",
    "def solution(triangle):\n",
    "\t\t# 밑에서 2번째줄부터 값을 누적\n",
    "    height = len(triangle)-2\n",
    "    \n",
    "    while height >= 0:\n",
    "        for i in range(len(triangle[height])):\n",
    "            triangle[height][i] += max(triangle[height+1][i], triangle[height+1][i+1])\n",
    "        height -= 1\n",
    "        \n",
    "    return triangle[0][0]\n",
    "\n",
    "print(solution([[7], [3, 8], [8, 1, 0], [2, 7, 4, 4], [4, 5, 2, 6, 5]]))    # 30"
   ]
  },
  {
   "cell_type": "code",
   "execution_count": 4,
   "metadata": {},
   "outputs": [
    {
     "name": "stdout",
     "output_type": "stream",
     "text": [
      "30\n"
     ]
    }
   ],
   "source": [
    "# 2중 for문\n",
    "# 2중 for문으로 구현하기\n",
    "def solution(triangle):\n",
    "    for i in range(len(triangle)-2, -1, -1):\n",
    "        for j in range(len(triangle[i])):\n",
    "            triangle[i][j] = max(triangle[i+1][j], triangle[i+1][j+1]) + triangle[i][j]\n",
    "\n",
    "    return triangle[0][0]\n",
    "    \n",
    "print(solution([[7], [3, 8], [8, 1, 0], [2, 7, 4, 4], [4, 5, 2, 6, 5]]))    # 30"
   ]
  }
 ],
 "metadata": {
  "kernelspec": {
   "display_name": "Python 3",
   "language": "python",
   "name": "python3"
  },
  "language_info": {
   "codemirror_mode": {
    "name": "ipython",
    "version": 3
   },
   "file_extension": ".py",
   "mimetype": "text/x-python",
   "name": "python",
   "nbconvert_exporter": "python",
   "pygments_lexer": "ipython3",
   "version": "3.11.6"
  }
 },
 "nbformat": 4,
 "nbformat_minor": 2
}
