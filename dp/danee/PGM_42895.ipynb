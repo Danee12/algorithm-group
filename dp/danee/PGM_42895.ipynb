{
 "cells": [
  {
   "cell_type": "markdown",
   "metadata": {},
   "source": [
    "## 42895. N으로 표현\n",
    "\n",
    "### 문제 풀이\n",
    "여기서 N은 5로 생각하고 작성한다.\n",
    "\n",
    "1. 숫자는 8번까지만 쓰면 된다.\n",
    "    \n",
    "    ⇒ DP에는 5을 1~8번 사용하여 만들 수 있는 숫자를 넣은 set으로 초기화 한다.\n",
    "    \n",
    "    `[{5}, {55}, {555}, {5555}, {55555}, {555555}, {5555555}, {55555555}]`\n",
    "    \n",
    "2. 어떤 규칙을 갖고 있는지 생각해본다.\n",
    "    1. 5를 1번 쓰는건 {5} 한가지\n",
    "    2. 5를 2번 쓸 때는 {5}를 가지고 사칙연산\n",
    "        \n",
    "        → `{55,  5+5,  5-5,  5*5,  5/5}` = `{55,  10,  0,  25,  1}`\n",
    "        \n",
    "    3.  5를 3번 쓸 때는 {5}와 {55}의 원소를 조합한다\n",
    "        \n",
    "        → `{555, 55 + (5+5),  55 - (5-5),  …  ,  (5/5)-55,  …}` = `{555,  65,  55,  …  , -54, ...}`\n",
    "        \n",
    "    4. 5를 4번 쓸 때는 {5} 와 {555} 의 원소를 조합하거나 {55} 의 원소들을 조합한다.\n",
    "    \n",
    "    ⇒ 즉, i번 쓸 때는 {5*j} 와 {5*(i-j)} 원소를 조합하는 것!\n",
    "    \n",
    "3. i개 사용할 때 `number` 가 있을 경우 stop! 그때가 가장 적게 사용한 것이기 때문\n",
    "4. 모두 돌았음에도 `number` 가 없다면 -1"
   ]
  },
  {
   "cell_type": "code",
   "execution_count": 1,
   "metadata": {},
   "outputs": [
    {
     "name": "stdout",
     "output_type": "stream",
     "text": [
      "4\n",
      "3\n"
     ]
    }
   ],
   "source": [
    "def solution(N, number):\n",
    "    # dp를 N을 1번 ~ 8번 사용하여 만들 수 있는 숫자를 넣은 set으로 초기화한다.\n",
    "    dp = [set()] + [{int(str(N)*i)} for i in range(1, 9)]\n",
    "    \n",
    "    # N을 1~8번 사용하는 경우를 전부 돌아본다.\n",
    "    for i in range(1, 9):\n",
    "\t\t    # 1번 ~ i번째까지 전부 돌린다.\n",
    "\t\t    # 연산을 통해 새로 생기는 경우의 수까지 전부 set에 저장하여 모든 경우를 봐야한다.\n",
    "        for j in range(1, i+1):\n",
    "            for num1 in dp[j]:\n",
    "                for num2 in dp[i-j]:\n",
    "                    dp[i].add(num1+num2)\n",
    "                    dp[i].add(num1-num2)\n",
    "                    dp[i].add(num1*num2)\n",
    "                    if num2 != 0:\n",
    "                        dp[i].add(num1//num2)\n",
    "        if number in dp[i]:\n",
    "            return i\n",
    "    return -1\n",
    "\n",
    "print(solution(5, 12))      # 4\n",
    "print(solution(2, 11))      # 3"
   ]
  },
  {
   "cell_type": "code",
   "execution_count": null,
   "metadata": {},
   "outputs": [],
   "source": []
  }
 ],
 "metadata": {
  "kernelspec": {
   "display_name": "Python 3",
   "language": "python",
   "name": "python3"
  },
  "language_info": {
   "codemirror_mode": {
    "name": "ipython",
    "version": 3
   },
   "file_extension": ".py",
   "mimetype": "text/x-python",
   "name": "python",
   "nbconvert_exporter": "python",
   "pygments_lexer": "ipython3",
   "version": "3.11.6"
  }
 },
 "nbformat": 4,
 "nbformat_minor": 2
}
