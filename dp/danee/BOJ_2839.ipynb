{
 "cells": [
  {
   "cell_type": "markdown",
   "metadata": {},
   "source": [
    "## 2839. 설탕 배달\n",
    "\n",
    "### 1차 문제 풀이 - DP\n",
    "3, 4, 5번째를 초기값으로 세팅하면 6번째부터 공통적인 규칙을 갖는다.\n",
    "\n",
    "1. 3과 5로 나누어 떨어지는 수\n",
    "    1. 15의 배수일 때는 5의 배수로 생각하는 것이 더 적은 양의 봉지를 챙길 수 있다.\n",
    "    2. 3, 5로 나누어 떨어질 때는 3, 5만큼 뺀 값일 때의 봉지에서 1만큼 더하면 된다.\n",
    "2. 3과 5로 나누어 떨어지지 않는 수\n",
    "    1. 3 또는 5를 뺐을 때의 값의 봉지 값에서 1만큼 더한다. 두 경우 중 더 적은 봉지일 때를 채택\n",
    "3. 3과 5로 만들어지지 않는 수\n",
    "    1. 모든 값을 전부 -1로 세팅을 해뒀기 때문에 건드리지 않는다."
   ]
  },
  {
   "cell_type": "code",
   "execution_count": null,
   "metadata": {},
   "outputs": [
    {
     "name": "stdout",
     "output_type": "stream",
     "text": [
      "4\n"
     ]
    }
   ],
   "source": [
    "N = int(input())\n",
    "\n",
    "# 점화식을 만족하기 위해 dp는 최소 6칸이 필요하다\n",
    "dp = [-1] * max(6, N+1)\n",
    "dp[3] = 1\n",
    "dp[5] = 1\n",
    "\n",
    "for i in range(6, N+1):\n",
    "    # 5로 나누어떨어질 때\n",
    "    if i % 5 == 0:\n",
    "        dp[i] = dp[i-5] + 1\n",
    "    # 3으로 나누어떨어질 때\n",
    "    elif i % 3 == 0:\n",
    "        dp[i] = dp[i-3] + 1\n",
    "    # 3, 5만큼 뺐을 때 값이 있어야 계산가능하다. 없으면 -1\n",
    "    elif dp[i-3] > 0 and dp[i-5] > 0:    \n",
    "        dp[i] = min(dp[i-3], dp[i-5]) + 1\n",
    "\n",
    "print(dp[N])\n",
    "# 18 -> 4"
   ]
  },
  {
   "cell_type": "markdown",
   "metadata": {},
   "source": [
    "### 2차 풀이 -> Greedy\n",
    "\n",
    "1. 5로 나누어 떨어지는가?\n",
    "    \n",
    "    Yes → 5로 나눈 몫을 더하고 끝!\n",
    "    \n",
    "    No → 3을 빼고 coin의 수를 올린다.\n",
    "    \n",
    "2. N이 0이 된다면 5로 나누어 떨어지게 되므로 똑같이 break\n",
    "3. 끝까지 0이 되지 않는다면 -1 반환하고 끝!"
   ]
  },
  {
   "cell_type": "code",
   "execution_count": 2,
   "metadata": {},
   "outputs": [
    {
     "name": "stdout",
     "output_type": "stream",
     "text": [
      "4\n"
     ]
    }
   ],
   "source": [
    "# N = int(input())\n",
    "N=18\n",
    "number_coin = 0\n",
    "\n",
    "# else 구절가 있기 때문에 0을 포함해줘야 한다.\n",
    "while N >= 0:\n",
    "    # 5로 나누어떨어질 때 끝!\n",
    "    if N % 5 == 0:\n",
    "        number_coin += N//5\n",
    "        break\n",
    "    # 5로 안나누어떨어지면 무조건 3으로 뺄 수 밖에 없다.\n",
    "    N -= 3\n",
    "    number_coin += 1\n",
    "else:\n",
    "    number_coin = -1\n",
    "\n",
    "print(number_coin)"
   ]
  },
  {
   "cell_type": "code",
   "execution_count": null,
   "metadata": {},
   "outputs": [],
   "source": []
  }
 ],
 "metadata": {
  "kernelspec": {
   "display_name": "Python 3",
   "language": "python",
   "name": "python3"
  },
  "language_info": {
   "codemirror_mode": {
    "name": "ipython",
    "version": 3
   },
   "file_extension": ".py",
   "mimetype": "text/x-python",
   "name": "python",
   "nbconvert_exporter": "python",
   "pygments_lexer": "ipython3",
   "version": "3.11.6"
  }
 },
 "nbformat": 4,
 "nbformat_minor": 2
}
