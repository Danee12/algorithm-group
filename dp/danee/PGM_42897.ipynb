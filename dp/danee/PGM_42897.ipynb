{
 "cells": [
  {
   "cell_type": "markdown",
   "metadata": {},
   "source": [
    "## 42897. 도둑질\n",
    "\n",
    "### 문제 풀이\n",
    "이 문제는 백준에서 풀었던 ‘계단 오르기’와 비슷한 문제. 단, 경우를 나눠야 한다.\n",
    "\n",
    "1. 첫 번째 집부터 차례대로 턴다고 가정한다. (계단을 올라가며 최대 점수를 저장한다.)\n",
    "2. 마을이 원형으로 배치되어있기 때문에 첫 번째 집과 마지막 집은 인접해 있다.\n",
    "    1. 첫 번째 집을 털면 마지막 집은 털 수 없다.\n",
    "    2. 두 번째 집을 털면 마지막 집을 털 수 있다."
   ]
  },
  {
   "cell_type": "code",
   "execution_count": null,
   "metadata": {},
   "outputs": [
    {
     "name": "stdout",
     "output_type": "stream",
     "text": [
      "4\n"
     ]
    }
   ],
   "source": [
    "def solution(money):\n",
    "    # 첫 번째 집부터 차례대로 턴다고 가정한다.\n",
    "    \n",
    "    # 첫 번째 집을 터는 경우 -> 마지막 집은 털면 안된다.(인접 O)\n",
    "    dp1 = [0] * len(money)\n",
    "    dp1[0] = money[0]\n",
    "    dp1[1] = max(money[0], money[1])\n",
    "    for i in range(2, len(money)-1):\n",
    "        dp1[i] = max(dp1[i-2] + money[i], dp1[i-1])\n",
    "    \n",
    "    # 두 번째 집을 터는 경우 -> 마지막 집을 털 수 있다.(인접 X)\n",
    "    dp2 = [0] * len(money)\n",
    "    dp2[0] = 0\n",
    "    dp2[1] = money[1]\n",
    "    for i in range(2, len(money)):\n",
    "        dp2[i] = max(dp2[i-2] + money[i], dp2[i-1])\n",
    "    \n",
    "    return max(max(dp1), max(dp2))\n",
    "\n",
    "print(solution([1, 2, 3, 1]))    # 4"
   ]
  },
  {
   "cell_type": "code",
   "execution_count": null,
   "metadata": {},
   "outputs": [],
   "source": []
  }
 ],
 "metadata": {
  "kernelspec": {
   "display_name": "Python 3",
   "language": "python",
   "name": "python3"
  },
  "language_info": {
   "codemirror_mode": {
    "name": "ipython",
    "version": 3
   },
   "file_extension": ".py",
   "mimetype": "text/x-python",
   "name": "python",
   "nbconvert_exporter": "python",
   "pygments_lexer": "ipython3",
   "version": "3.11.6"
  }
 },
 "nbformat": 4,
 "nbformat_minor": 2
}
