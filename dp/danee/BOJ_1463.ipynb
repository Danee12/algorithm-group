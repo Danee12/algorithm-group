{
 "cells": [
  {
   "cell_type": "markdown",
   "metadata": {},
   "source": [
    "## 1463. 1로 만들기\n",
    "\n",
    "### 문제 풀이\n",
    "2로 나누든 3으로 나누든 1을 빼든 가장 적게 연산할 수 있는 방향으로 나아가야한다.\n",
    "\n",
    "10은 10 → 9 → 3 → 1 로 연산했을 때가 가장 짧다. \n",
    "\n",
    "그렇다면 9 또한 9 → 3 → 1 로 연산했을 때가 가장 짧고 3도 3 → 1로 연산했을 때가 가장 짧다. \n",
    "\n",
    "10에서 2로 나누는 것 보다 1을 뺐을 때가 더 짧은 것!!\n",
    "\n",
    "1. dp를 사용해서 N번째의 연산 횟수를 쌓아서 더 큰 N의 연산 횟수에서 써먹자.\n",
    "2. 3가지 연산 중에서 가장 적은 연산인 것을 선택하자."
   ]
  },
  {
   "cell_type": "code",
   "execution_count": 2,
   "metadata": {},
   "outputs": [
    {
     "name": "stdout",
     "output_type": "stream",
     "text": [
      "[0, 0, 1, 1, 2, 3, 2, 3, 3, 2, 3]\n",
      "답은 : 3\n"
     ]
    }
   ],
   "source": [
    "N = int(input())\n",
    "dp = [0]*(N+1)\n",
    "\n",
    "# 1을 뺐을 때 또는 2나 3으로 나누었을 때 중 횟수가 가장 최솟값을 저장하는 for문\n",
    "for i in range(2, N+1):\n",
    "    # 모든 수는 1을 뺄 수 있으므로 우선 바로 직전 숫자의 카운트를 1 올린다.\n",
    "    dp[i] = dp[i-1]+1\n",
    "    \n",
    "    # 3으로 나눠떨어지는 경우, \n",
    "    if i%3==0:\n",
    "        dp[i] = min(dp[i], dp[i//3]+1)\n",
    "    \n",
    "    # 2으로 나눠떨어지는 경우, \n",
    "    if i%2==0:\n",
    "        dp[i] = min(dp[i], dp[i//2]+1)\n",
    "        \n",
    "print(dp)\n",
    "print(f\"답은 : {dp[N]}\")\n",
    "# 10 => 3\n",
    "# 2 => 1"
   ]
  },
  {
   "cell_type": "code",
   "execution_count": null,
   "metadata": {},
   "outputs": [],
   "source": []
  }
 ],
 "metadata": {
  "kernelspec": {
   "display_name": "Python 3",
   "language": "python",
   "name": "python3"
  },
  "language_info": {
   "codemirror_mode": {
    "name": "ipython",
    "version": 3
   },
   "file_extension": ".py",
   "mimetype": "text/x-python",
   "name": "python",
   "nbconvert_exporter": "python",
   "pygments_lexer": "ipython3",
   "version": "3.11.6"
  }
 },
 "nbformat": 4,
 "nbformat_minor": 2
}
