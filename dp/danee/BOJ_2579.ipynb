{
 "cells": [
  {
   "cell_type": "markdown",
   "metadata": {},
   "source": [
    "## 2579. 계단 오르기\n",
    "\n",
    "### 1차 문제 풀이\n",
    "고려하고 생각했던 순서대로 정리하자면…\n",
    "\n",
    "1. 최종 계단은 무조건 더해야 한다.\n",
    "2. 이전 계단이 연속됐는지 아닌지 확인해야한다.\n",
    "3. 이전 계단이 연속이 되었다면\n",
    "    1. 바로 전 계단만 더하고 3계단 아래의 최댓값을 더한다\n",
    "    2. 2 계단 아래의 최댓값을 더한다.\n",
    "4. 계단의 최대값을 업데이트 할 때마다 계단이 연속인지 아닌지에 대한 변수를 업데이트해줘야 한다.\n",
    "\n",
    "=> 정신없다. 간단하게 정리하자"
   ]
  },
  {
   "cell_type": "code",
   "execution_count": null,
   "metadata": {},
   "outputs": [],
   "source": [
    "N = int(input())\n",
    "score_list = [0] + [int(input()) for _ in range(N)]\n",
    "\n",
    "dp = [0] * (N+1)\n",
    "dp[1] = score_list[1]\n",
    "is_continue = False    # 계단이 연속인지 확인\n",
    "\n",
    "for i in range(2, N+1):\n",
    "    if is_continue:\n",
    "        if score_list[i] + dp[i-2] > score_list[i] + score_list[i-1] + dp[i-3]:\n",
    "            dp[i] = score_list[i] + dp[i-2]\n",
    "            is_continue = False\n",
    "        else:\n",
    "            dp[i] = score_list[i] + score_list[i-1] + dp[i-3]\n",
    "    else:\n",
    "        if dp[i-1] > dp[i-2]:\n",
    "            dp[i] = score_list[i] + dp[i-1]\n",
    "            is_continue = True\n",
    "        else:\n",
    "            dp[i] = score_list[i] + dp[i-2]\n",
    "\n",
    "print(dp[N])"
   ]
  },
  {
   "cell_type": "markdown",
   "metadata": {},
   "source": [
    "### 2차 문제 풀이\n",
    "연속인지 아닌지 확인하는 변수가 꼭 필요할까? 라는 생각이 들었다. 다시 처음부터 뜯어 고치기!\n",
    "\n",
    "1~3번째 값을 정해두면 4번째 부터는 똑같은 규칙이 적용되는 것이었다!!! \n",
    "\n",
    "- N-2 번째 계단의 최종 점수와 N번째 계단의 점수의 합\n",
    "- N-1번째 계단의 점수와 N-3번째 계단의 최종 점수의 합\n",
    "\n",
    "위의 2가지 경우만 존재했다….\n",
    "\n",
    "앞의 1~3번째도 일반화를 하려고 너무 머리를 쓴 것 같다. 적당히 식이 단순해질 수 있도록 고려해봐야한다.\n",
    "\n",
    "=> 런타임 에러...!!!"
   ]
  },
  {
   "cell_type": "code",
   "execution_count": null,
   "metadata": {},
   "outputs": [],
   "source": [
    "N = int(input())\n",
    "score_list = [0] + [int(input()) for _ in range(N)] \n",
    "\n",
    "dp = [0] * (N+1)\n",
    "dp[1] = score_list[1]\n",
    "dp[2] = score_list[2]+score_list[1]\n",
    "dp[3] = max(score_list[3]+score_list[1], score_list[3]+score_list[2])\n",
    "\n",
    "for i in range(4, N+1):\n",
    "    dp[i] = max(score_list[i]+dp[i-2], score_list[i]+score_list[i-1]+dp[i-3])\n",
    "\n",
    "print(dp[N])"
   ]
  },
  {
   "cell_type": "markdown",
   "metadata": {},
   "source": [
    "### 3차 문제 풀이\n",
    "N이 1 이거나 2일 때 `IndexError: list assignment index out of range` 가 나는 것이었다.  \n",
    "  \n",
    "처음에는 1과 2일 때 return하도록 함수로 구현할까 하다가 너무 지저분해질 것 같다.  \n",
    "그래서 생각해낸 방법은 '최소로 이뤄야 하는 dp의 길이'를 고려하여 리스트 생성"
   ]
  },
  {
   "cell_type": "code",
   "execution_count": null,
   "metadata": {},
   "outputs": [],
   "source": [
    "N = int(input())\n",
    "# 점화식을 맞춰주기 위해서는 최소한 4칸이 필요하다\n",
    "stairs_score = [0] * max(4, N+1)\n",
    "for i in range(1, N+1):\n",
    "    stairs_score[i] = int(input())\n",
    "\n",
    "dp = [0] * max(4, N+1)\n",
    "dp[1] = stairs_score[1]\n",
    "dp[2] = stairs_score[1] + stairs_score[2]\n",
    "dp[3] = max(stairs_score[1], stairs_score[2]) + stairs_score[3]\n",
    "\n",
    "# i번째 계단에서 올라올 수 있는 방법은 딱 2가지\n",
    "# 1) i-1번째 계단에서 올라올 때\n",
    "#   연속해서 3개의 계단을 밟을 수 없으므로 i-3, i-1, i 번째 계단을 밟도록 한다.\n",
    "# 2) i-2번째 계단에서 올라올 때\n",
    "for i in range(4, N+1):\n",
    "    dp[i] = max(dp[i-3]+stairs_score[i-1], dp[i-2]) + stairs_score[i]\n",
    "    \n",
    "print(dp[N])"
   ]
  }
 ],
 "metadata": {
  "kernelspec": {
   "display_name": "Python 3",
   "language": "python",
   "name": "python3"
  },
  "language_info": {
   "name": "python",
   "version": "3.11.6"
  }
 },
 "nbformat": 4,
 "nbformat_minor": 2
}
