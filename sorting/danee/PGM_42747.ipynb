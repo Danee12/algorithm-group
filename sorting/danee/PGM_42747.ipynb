{
 "cells": [
  {
   "cell_type": "markdown",
   "metadata": {},
   "source": [
    "## 42747. H-Index\n",
    "\n",
    "### 문제 풀이\n",
    "참고 : [H-Index란?](https://www.ibric.org/bric/trend/bio-series.do?mode=series_view&newsArticleNo=8802417&articleNo=8882714&beforeMode=latest_list#!/list)\n",
    "\n",
    "위의 참고 url 을 통해 이해했다. 문제 이해가 제일 어려운 문제 였다.\n",
    "\n",
    "1. 논문 인용수를 내림차순으로 정렬한다.\n",
    "2. 피인용수가 논문수와 같아지거나 작아지는 수를 반환한다."
   ]
  },
  {
   "cell_type": "code",
   "execution_count": 1,
   "metadata": {},
   "outputs": [
    {
     "name": "stdout",
     "output_type": "stream",
     "text": [
      "3\n",
      "0\n",
      "5\n"
     ]
    }
   ],
   "source": [
    "def solution(citations):\n",
    "    citations = sorted(citations, reverse=True)\n",
    "    \n",
    "    for i, h in enumerate(citations):\n",
    "        if h <= i:\n",
    "            return i\n",
    "    return len(citations)\n",
    "\n",
    "print(solution([3, 0, 6, 1, 5]))    # 3\n",
    "print(solution([0]))    # 0\n",
    "print(solution([10000, 9999, 9998, 9997, 9996]))  # 5"
   ]
  },
  {
   "cell_type": "code",
   "execution_count": null,
   "metadata": {},
   "outputs": [],
   "source": []
  }
 ],
 "metadata": {
  "kernelspec": {
   "display_name": "Python 3",
   "language": "python",
   "name": "python3"
  },
  "language_info": {
   "codemirror_mode": {
    "name": "ipython",
    "version": 3
   },
   "file_extension": ".py",
   "mimetype": "text/x-python",
   "name": "python",
   "nbconvert_exporter": "python",
   "pygments_lexer": "ipython3",
   "version": "3.11.6"
  }
 },
 "nbformat": 4,
 "nbformat_minor": 2
}
