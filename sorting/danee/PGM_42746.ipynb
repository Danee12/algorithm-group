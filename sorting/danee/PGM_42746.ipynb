{
 "cells": [
  {
   "cell_type": "markdown",
   "metadata": {},
   "source": [
    "## 42746. 가장 큰 수\n",
    "\n",
    "### 1차 문제 풀이 - 시간 초과\n",
    "`permutations` 메서드를 가지고 모든 경우의 수를 구한 다음 max 값을 구했다"
   ]
  },
  {
   "cell_type": "code",
   "execution_count": 1,
   "metadata": {},
   "outputs": [
    {
     "name": "stdout",
     "output_type": "stream",
     "text": [
      "6210\n",
      "9534330\n"
     ]
    }
   ],
   "source": [
    "from itertools import permutations\n",
    "\n",
    "def solution(numbers):\n",
    "    permutation = list(map(lambda x : ''.join(map(str, x)), permutations(numbers)))\n",
    "    return max(permutation)\n",
    "\n",
    "print(solution([6, 10, 2]))\n",
    "print(solution([3, 30, 34, 5, 9]))"
   ]
  },
  {
   "cell_type": "markdown",
   "metadata": {},
   "source": [
    "### 2차 문제 풀이 - 틀림!\n",
    "[ 변경 내용 ]\n",
    "\n",
    "1. `numbers` 를 먼저 정렬하고 정렬한 값을 붙힌다.\n",
    "    1. 9, 3, 30 의 경우 정렬하면 `['3','30','9']`  으로 정렬이 되고 그대로 reverse하여 붙히면 최대값이 아니다! 그래서 서로 앞뒤에 붙혀가며 더 큰 값을 선택한다.\n",
    "\n",
    "=> 바보다 바보다, 앞에만 혹은 뒤에만 뒤바뀔 수 있는 숫자가 나오는게 아니다! 처음부터 제대로 된 정렬이 필요하다!"
   ]
  },
  {
   "cell_type": "code",
   "execution_count": 2,
   "metadata": {},
   "outputs": [
    {
     "name": "stdout",
     "output_type": "stream",
     "text": [
      "6210\n",
      "9534330\n"
     ]
    }
   ],
   "source": [
    "def solution(numbers):\n",
    "    answer = ''\n",
    "    numbers_sort = sorted(list(map(str, numbers)))\n",
    "    \n",
    "    for number in numbers_sort:\n",
    "        answer = max(number+answer, answer+number)\n",
    "    \n",
    "    return answer\n",
    "\n",
    "print(solution([6, 10, 2]))\n",
    "print(solution([3, 30, 34, 5, 9]))"
   ]
  },
  {
   "cell_type": "markdown",
   "metadata": {},
   "source": [
    "### 3차 문제 풀이(최종)\n",
    "\n",
    "[ 변경 내용 ]\n",
    "\n",
    "1. `sorted()` 의 `key()` 메서드를 사용했다.\n",
    "    1. numbers의 원소는 1000 이하이기 때문에 `x*3` 해서 비교한다.  \n",
    "        ex. 9 와 990 이 있다면 `x*2` 하면 99와 990990을 비교하게 되기 때문에 `x*3` 이 필요\n",
    "2. `[0, 0]` 같은 경우 '00' 으로 반환되기 때문에 int -> str 로 변환"
   ]
  },
  {
   "cell_type": "code",
   "execution_count": 3,
   "metadata": {},
   "outputs": [
    {
     "name": "stdout",
     "output_type": "stream",
     "text": [
      "6210\n",
      "9534330\n",
      "0\n"
     ]
    }
   ],
   "source": [
    "def solution(numbers):\n",
    "    numbers_sort = sorted(list(map(str, numbers)), key = lambda x : x*3, reverse=True)\n",
    "    \n",
    "    return str(int(''.join(numbers_sort)))\n",
    "\n",
    "print(solution([6, 10, 2]))\n",
    "print(solution([3, 30, 34, 5, 9]))\n",
    "print(solution([0,0]))"
   ]
  },
  {
   "cell_type": "code",
   "execution_count": null,
   "metadata": {},
   "outputs": [],
   "source": []
  }
 ],
 "metadata": {
  "kernelspec": {
   "display_name": "Python 3",
   "language": "python",
   "name": "python3"
  },
  "language_info": {
   "codemirror_mode": {
    "name": "ipython",
    "version": 3
   },
   "file_extension": ".py",
   "mimetype": "text/x-python",
   "name": "python",
   "nbconvert_exporter": "python",
   "pygments_lexer": "ipython3",
   "version": "3.11.6"
  }
 },
 "nbformat": 4,
 "nbformat_minor": 2
}
